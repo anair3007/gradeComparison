{
 "cells": [
  {
   "cell_type": "markdown",
   "metadata": {},
   "source": [
    "# Exploratory analysis of 4 years of data of physics grades"
   ]
  },
  {
   "cell_type": "code",
   "execution_count": null,
   "metadata": {},
   "outputs": [],
   "source": [
    "!python -V #version of python"
   ]
  },
  {
   "cell_type": "code",
   "execution_count": 17,
   "metadata": {},
   "outputs": [],
   "source": [
    "import pandas as pd\n",
    "pd.set_option('display.max_columns', None)\n",
    "pd.set_option('precision', 5)\n",
    "import numpy as np\n",
    "import re\n",
    "from scipy import stats\n",
    "import matplotlib.pyplot as plt\n",
    "import matplotlib.colors"
   ]
  },
  {
   "cell_type": "markdown",
   "metadata": {},
   "source": [
    "#### Read in .csv and remove blank columns"
   ]
  },
  {
   "cell_type": "code",
   "execution_count": 18,
   "metadata": {},
   "outputs": [
    {
     "name": "stdout",
     "output_type": "stream",
     "text": [
      "physics course grade data read into dataframe successfully\n"
     ]
    },
    {
     "data": {
      "text/html": [
       "<div>\n",
       "<style scoped>\n",
       "    .dataframe tbody tr th:only-of-type {\n",
       "        vertical-align: middle;\n",
       "    }\n",
       "\n",
       "    .dataframe tbody tr th {\n",
       "        vertical-align: top;\n",
       "    }\n",
       "\n",
       "    .dataframe thead th {\n",
       "        text-align: right;\n",
       "    }\n",
       "</style>\n",
       "<table border=\"1\" class=\"dataframe\">\n",
       "  <thead>\n",
       "    <tr style=\"text-align: right;\">\n",
       "      <th></th>\n",
       "      <th>Identifier</th>\n",
       "      <th>Gndr_Flag</th>\n",
       "      <th>Ethnicity</th>\n",
       "      <th>First Gen</th>\n",
       "      <th>PHY 183 term</th>\n",
       "      <th>First day section</th>\n",
       "      <th>Quarter term section</th>\n",
       "      <th>final grade</th>\n",
       "    </tr>\n",
       "  </thead>\n",
       "  <tbody>\n",
       "    <tr>\n",
       "      <th>0</th>\n",
       "      <td>0080B044-2082-44C3-A6A1-A930DE7B456E</td>\n",
       "      <td>F</td>\n",
       "      <td>White (non-Hispanic)</td>\n",
       "      <td>Y</td>\n",
       "      <td>FS14</td>\n",
       "      <td>2.0</td>\n",
       "      <td>2.0</td>\n",
       "      <td>1.5</td>\n",
       "    </tr>\n",
       "    <tr>\n",
       "      <th>1</th>\n",
       "      <td>008CEDE8-726D-46F8-BEE0-B99200BA8DBD</td>\n",
       "      <td>F</td>\n",
       "      <td>Black or African American  (non-Hispanic)</td>\n",
       "      <td>N</td>\n",
       "      <td>FS14</td>\n",
       "      <td>1.0</td>\n",
       "      <td>1.0</td>\n",
       "      <td>1.5</td>\n",
       "    </tr>\n",
       "    <tr>\n",
       "      <th>2</th>\n",
       "      <td>013133EC-45FB-4627-A436-79E547F5795E</td>\n",
       "      <td>M</td>\n",
       "      <td>International</td>\n",
       "      <td>Y</td>\n",
       "      <td>FS14</td>\n",
       "      <td>1.0</td>\n",
       "      <td>1.0</td>\n",
       "      <td>4.0</td>\n",
       "    </tr>\n",
       "    <tr>\n",
       "      <th>3</th>\n",
       "      <td>0131C37C-0336-4A9C-8988-CC605F5EE5A9</td>\n",
       "      <td>M</td>\n",
       "      <td>White (non-Hispanic)</td>\n",
       "      <td>N</td>\n",
       "      <td>FS14</td>\n",
       "      <td>2.0</td>\n",
       "      <td>2.0</td>\n",
       "      <td>3.5</td>\n",
       "    </tr>\n",
       "    <tr>\n",
       "      <th>4</th>\n",
       "      <td>01A6F74B-7A75-4E4A-B012-9909E17EA743</td>\n",
       "      <td>F</td>\n",
       "      <td>White (non-Hispanic)</td>\n",
       "      <td>N</td>\n",
       "      <td>FS14</td>\n",
       "      <td>4.0</td>\n",
       "      <td>4.0</td>\n",
       "      <td>3.5</td>\n",
       "    </tr>\n",
       "  </tbody>\n",
       "</table>\n",
       "</div>"
      ],
      "text/plain": [
       "                             Identifier Gndr_Flag  \\\n",
       "0  0080B044-2082-44C3-A6A1-A930DE7B456E         F   \n",
       "1  008CEDE8-726D-46F8-BEE0-B99200BA8DBD         F   \n",
       "2  013133EC-45FB-4627-A436-79E547F5795E         M   \n",
       "3  0131C37C-0336-4A9C-8988-CC605F5EE5A9         M   \n",
       "4  01A6F74B-7A75-4E4A-B012-9909E17EA743         F   \n",
       "\n",
       "                                   Ethnicity First Gen PHY 183 term  \\\n",
       "0                       White (non-Hispanic)         Y         FS14   \n",
       "1  Black or African American  (non-Hispanic)         N         FS14   \n",
       "2                              International         Y         FS14   \n",
       "3                       White (non-Hispanic)         N         FS14   \n",
       "4                       White (non-Hispanic)         N         FS14   \n",
       "\n",
       "   First day section  Quarter term section final grade  \n",
       "0                2.0                   2.0         1.5  \n",
       "1                1.0                   1.0         1.5  \n",
       "2                1.0                   1.0         4.0  \n",
       "3                2.0                   2.0         3.5  \n",
       "4                4.0                   4.0         3.5  "
      ]
     },
     "execution_count": 18,
     "metadata": {},
     "output_type": "execute_result"
    }
   ],
   "source": [
    "data = pd.read_csv(\"grades.csv\")\n",
    "print(\"physics course grade data read into dataframe successfully\")\n",
    "data.drop(['Unnamed: 8','Unnamed: 9','Unnamed: 10','Unnamed: 11','Unnamed: 12'], axis=1, inplace=True)\n",
    "data.head()"
   ]
  },
  {
   "cell_type": "code",
   "execution_count": 19,
   "metadata": {},
   "outputs": [
    {
     "data": {
      "text/plain": [
       "(6345, 8)"
      ]
     },
     "execution_count": 19,
     "metadata": {},
     "output_type": "execute_result"
    }
   ],
   "source": [
    "data.shape"
   ]
  },
  {
   "cell_type": "code",
   "execution_count": 20,
   "metadata": {},
   "outputs": [
    {
     "data": {
      "text/plain": [
       "White (non-Hispanic)                             3941\n",
       "International                                    1193\n",
       "Asian (non-Hispanic)                              443\n",
       "Black or African American  (non-Hispanic)         304\n",
       "Hispanic Ethnicity                                230\n",
       "Two or more races (non-Hispanic)                  163\n",
       "Not Reported                                       56\n",
       "American Indian/Alaskan Native (non-Hispanic)       9\n",
       "Hawaiian / Pacific Islander (non-Hispanic)          6\n",
       "Name: Ethnicity, dtype: int64"
      ]
     },
     "execution_count": 20,
     "metadata": {},
     "output_type": "execute_result"
    }
   ],
   "source": [
    "data[\"Ethnicity\"].value_counts()"
   ]
  },
  {
   "cell_type": "markdown",
   "metadata": {},
   "source": [
    "### Narrow to Domestic Students with reported ethnicity"
   ]
  },
  {
   "cell_type": "markdown",
   "metadata": {},
   "source": [
    "#### We are interested in looking at the effect of a student's ethnicity on final course grade. We are also interested in only domestic students since this project is aimed at addressing the calls for a more diverse STEM workforce. \n",
    "\n",
    "#### 1. Remove all rows that are of students that have Ethnicity values of \"International\" or \"Not Reported\"\n",
    "\n",
    "#### 2. Remove Hawaiian/Pacific Islander & American Indian/Alaskan Native since the N is so tiny"
   ]
  },
  {
   "cell_type": "code",
   "execution_count": 21,
   "metadata": {},
   "outputs": [],
   "source": [
    "#data = data[data.Ethnicity != 'International']\n",
    "#data = data[data.Ethnicity != 'Not Reported']\n",
    "\n",
    "domestic = data.loc[\n",
    "    (data.Ethnicity != 'International') &\n",
    "    (data.Ethnicity != 'Not Reported') &\n",
    "    (data.Ethnicity != 'American Indian/Alaskan Native (non-Hispanic)') &\n",
    "    (data.Ethnicity != 'Hawaiian / Pacific Islander (non-Hispanic)')\n",
    "].copy()"
   ]
  },
  {
   "cell_type": "code",
   "execution_count": 22,
   "metadata": {},
   "outputs": [
    {
     "data": {
      "text/plain": [
       "White (non-Hispanic)                         3941\n",
       "Asian (non-Hispanic)                          443\n",
       "Black or African American  (non-Hispanic)     304\n",
       "Hispanic Ethnicity                            230\n",
       "Two or more races (non-Hispanic)              163\n",
       "Name: Ethnicity, dtype: int64"
      ]
     },
     "execution_count": 22,
     "metadata": {},
     "output_type": "execute_result"
    }
   ],
   "source": [
    "domestic[\"Ethnicity\"].value_counts()"
   ]
  },
  {
   "cell_type": "code",
   "execution_count": 23,
   "metadata": {},
   "outputs": [
    {
     "data": {
      "text/plain": [
       "(5081, 8)"
      ]
     },
     "execution_count": 23,
     "metadata": {},
     "output_type": "execute_result"
    }
   ],
   "source": [
    "domestic.shape"
   ]
  },
  {
   "cell_type": "markdown",
   "metadata": {},
   "source": [
    "### Separate students who received numeric grade (completed the course) and those that left the course (Dropped or Withdrawn)"
   ]
  },
  {
   "cell_type": "code",
   "execution_count": 24,
   "metadata": {},
   "outputs": [],
   "source": [
    "receivedGrade = domestic.loc[\n",
    "    (domestic[\"final grade\"] != '(dropped)') &\n",
    "    (domestic[\"final grade\"] != 'W') &\n",
    "    (domestic[\"final grade\"] != 'V')   \n",
    "].copy()\n",
    "leftCourse = domestic.loc[\n",
    "    (domestic[\"final grade\"] == '(dropped)') |\n",
    "    (domestic[\"final grade\"] == 'W') \n",
    "].copy()"
   ]
  },
  {
   "cell_type": "code",
   "execution_count": 25,
   "metadata": {},
   "outputs": [],
   "source": [
    "receivedGrade.dtypes\n",
    "receivedGrade['final grade'] = receivedGrade['final grade'].astype(float)\n"
   ]
  },
  {
   "cell_type": "markdown",
   "metadata": {},
   "source": [
    "#### This is the total average grade of everyone who received a grade that is Domestic + Stated Ethnicity"
   ]
  },
  {
   "cell_type": "code",
   "execution_count": 26,
   "metadata": {},
   "outputs": [
    {
     "data": {
      "text/plain": [
       "count    4763.00000\n",
       "mean        2.99097\n",
       "std         0.97174\n",
       "min         0.00000\n",
       "25%         2.50000\n",
       "50%         3.00000\n",
       "75%         3.50000\n",
       "max         4.00000\n",
       "Name: final grade, dtype: float64"
      ]
     },
     "execution_count": 26,
     "metadata": {},
     "output_type": "execute_result"
    }
   ],
   "source": [
    "receivedGrade['final grade'].describe()"
   ]
  },
  {
   "cell_type": "markdown",
   "metadata": {},
   "source": [
    "### Summary of White (non-Hispanic) student grades"
   ]
  },
  {
   "cell_type": "code",
   "execution_count": 27,
   "metadata": {},
   "outputs": [
    {
     "data": {
      "text/plain": [
       "count    3710.00000\n",
       "mean        3.07507\n",
       "std         0.91883\n",
       "min         0.00000\n",
       "25%         2.50000\n",
       "50%         3.50000\n",
       "75%         4.00000\n",
       "max         4.00000\n",
       "Name: final grade, dtype: float64"
      ]
     },
     "execution_count": 27,
     "metadata": {},
     "output_type": "execute_result"
    }
   ],
   "source": [
    "receivedGrade.loc[receivedGrade[\"Ethnicity\"] == 'White (non-Hispanic)'][\"final grade\"].describe()"
   ]
  },
  {
   "cell_type": "markdown",
   "metadata": {},
   "source": [
    "### Summary of Black or African American (non-Hispanic) student grades"
   ]
  },
  {
   "cell_type": "code",
   "execution_count": 28,
   "metadata": {},
   "outputs": [
    {
     "data": {
      "text/plain": [
       "count    269.00000\n",
       "mean       2.25651\n",
       "std        1.08638\n",
       "min        0.00000\n",
       "25%        1.50000\n",
       "50%        2.50000\n",
       "75%        3.00000\n",
       "max        4.00000\n",
       "Name: final grade, dtype: float64"
      ]
     },
     "execution_count": 28,
     "metadata": {},
     "output_type": "execute_result"
    }
   ],
   "source": [
    "receivedGrade.loc[receivedGrade[\"Ethnicity\"] == 'Black or African American  (non-Hispanic)'][\"final grade\"].describe()"
   ]
  },
  {
   "cell_type": "markdown",
   "metadata": {},
   "source": [
    "### Summary of Hispanic student grades"
   ]
  },
  {
   "cell_type": "code",
   "execution_count": 29,
   "metadata": {},
   "outputs": [
    {
     "data": {
      "text/plain": [
       "count    210.00000\n",
       "mean       2.55952\n",
       "std        1.12392\n",
       "min        0.00000\n",
       "25%        2.00000\n",
       "50%        3.00000\n",
       "75%        3.50000\n",
       "max        4.00000\n",
       "Name: final grade, dtype: float64"
      ]
     },
     "execution_count": 29,
     "metadata": {},
     "output_type": "execute_result"
    }
   ],
   "source": [
    "receivedGrade.loc[receivedGrade[\"Ethnicity\"] == 'Hispanic Ethnicity'][\"final grade\"].describe()"
   ]
  },
  {
   "cell_type": "markdown",
   "metadata": {},
   "source": [
    "## Mann-Whitney-Wilcoxon (MWW) RankSum tests"
   ]
  },
  {
   "cell_type": "code",
   "execution_count": 30,
   "metadata": {},
   "outputs": [
    {
     "name": "stdout",
     "output_type": "stream",
     "text": [
      "Comparing grade distributions of White and Black students p = 0.000000000\n",
      "Comparing grade distributions of White and Asian students p = 0.018006612\n",
      "Comparing grade distributions of White and Hispanic students p = 0.000000000\n",
      "Comparing grade distributions of White and Multiracial students p = 0.167840284\n"
     ]
    }
   ],
   "source": [
    "z_stat, p_val = stats.ranksums(\n",
    "    receivedGrade.loc[receivedGrade[\"Ethnicity\"] == 'White (non-Hispanic)'][\"final grade\"],\n",
    "    receivedGrade.loc[receivedGrade[\"Ethnicity\"] == 'Black or African American  (non-Hispanic)'][\"final grade\"]\n",
    ")\n",
    "receivedGrade.loc[receivedGrade[\"Ethnicity\"] == 'White (non-Hispanic)'][\"final grade\"].mean()\n",
    "receivedGrade.loc[receivedGrade[\"Ethnicity\"] == 'Black or African American  (non-Hispanic)'][\"final grade\"].mean()\n",
    "\n",
    "print(\"Comparing grade distributions of White and Black students p =\", format(p_val, '.9f'))\n",
    "\n",
    "\n",
    "z_stat, p_val = stats.ranksums(\n",
    "    receivedGrade.loc[receivedGrade[\"Ethnicity\"] == 'White (non-Hispanic)'][\"final grade\"],\n",
    "    receivedGrade.loc[receivedGrade[\"Ethnicity\"] == 'Asian (non-Hispanic)'][\"final grade\"]\n",
    ")\n",
    "print(\"Comparing grade distributions of White and Asian students p =\", format(p_val, '.9f'))\n",
    "\n",
    "\n",
    "z_stat, p_val = stats.ranksums(\n",
    "    receivedGrade.loc[receivedGrade[\"Ethnicity\"] == 'White (non-Hispanic)'][\"final grade\"],\n",
    "    receivedGrade.loc[receivedGrade[\"Ethnicity\"] == 'Hispanic Ethnicity'][\"final grade\"]\n",
    ")\n",
    "print(\"Comparing grade distributions of White and Hispanic students p =\", format(p_val, '.9f'))\n",
    "\n",
    "\n",
    "z_stat, p_val = stats.ranksums(\n",
    "    receivedGrade.loc[receivedGrade[\"Ethnicity\"] == 'White (non-Hispanic)'][\"final grade\"],\n",
    "    receivedGrade.loc[receivedGrade[\"Ethnicity\"] == 'Two or more races (non-Hispanic)'][\"final grade\"]\n",
    ")\n",
    "print(\"Comparing grade distributions of White and Multiracial students p =\",format(p_val,'.9f'))"
   ]
  },
  {
   "cell_type": "markdown",
   "metadata": {},
   "source": [
    "# Histograms of grade distribution by ethnicity"
   ]
  },
  {
   "cell_type": "code",
   "execution_count": 48,
   "metadata": {},
   "outputs": [
    {
     "data": {
      "text/plain": [
       "array([[<matplotlib.axes._subplots.AxesSubplot object at 0x0000018870FDCA20>,\n",
       "        <matplotlib.axes._subplots.AxesSubplot object at 0x0000018870F42BA8>,\n",
       "        <matplotlib.axes._subplots.AxesSubplot object at 0x0000018870FAB278>],\n",
       "       [<matplotlib.axes._subplots.AxesSubplot object at 0x0000018870FB3908>,\n",
       "        <matplotlib.axes._subplots.AxesSubplot object at 0x00000188700FBF98>,\n",
       "        <matplotlib.axes._subplots.AxesSubplot object at 0x00000188700FBFD0>]],\n",
       "      dtype=object)"
      ]
     },
     "execution_count": 48,
     "metadata": {},
     "output_type": "execute_result"
    },
    {
     "data": {
      "image/png": "[encoded data removed]",
      "text/plain": [
       "<Figure size 1296x648 with 6 Axes>"
      ]
     },
     "metadata": {},
     "output_type": "display_data"
    }
   ],
   "source": [
    "receivedGrade.hist(by='Ethnicity', column='final grade', \n",
    "                   figsize=(18,9), xrot=90, xlabelsize=12, \n",
    "                   ylabelsize=12, layout=(2,3), bins=(0,0.5,1.0,1.5,2.0,2.5,3.0,3.5,4.0), \n",
    "                   color=('green'), alpha=0.5)"
   ]
  },
  {
   "cell_type": "markdown",
   "metadata": {},
   "source": [
    "# Histograms of grade distribution by gender"
   ]
  },
  {
   "cell_type": "code",
   "execution_count": 205,
   "metadata": {},
   "outputs": [
    {
     "data": {
      "text/plain": [
       "array([<matplotlib.axes._subplots.AxesSubplot object at 0x0000018877EF4780>,\n",
       "       <matplotlib.axes._subplots.AxesSubplot object at 0x0000018877F207F0>],\n",
       "      dtype=object)"
      ]
     },
     "execution_count": 205,
     "metadata": {},
     "output_type": "execute_result"
    },
    {
     "data": {
      "image/png": "[encoded data removed]",
      "text/plain": [
       "<Figure size 864x288 with 2 Axes>"
      ]
     },
     "metadata": {},
     "output_type": "display_data"
    }
   ],
   "source": [
    "receivedGrade.hist(by='Gndr_Flag', column='final grade', \n",
    "                   figsize=(12,4), xrot=90, xlabelsize=12, \n",
    "                   ylabelsize=12, layout=(1,2), bins=(0,0.5,1.0,1.5,2.0,2.5,3.0,3.5,4.0), \n",
    "                   color=('blue'), alpha=0.5)"
   ]
  },
  {
   "cell_type": "markdown",
   "metadata": {},
   "source": [
    "# Histograms of grade distribution by first generation college status"
   ]
  },
  {
   "cell_type": "code",
   "execution_count": 204,
   "metadata": {},
   "outputs": [
    {
     "data": {
      "text/plain": [
       "array([<matplotlib.axes._subplots.AxesSubplot object at 0x0000018875C54208>,\n",
       "       <matplotlib.axes._subplots.AxesSubplot object at 0x0000018877BB5DD8>],\n",
       "      dtype=object)"
      ]
     },
     "execution_count": 204,
     "metadata": {},
     "output_type": "execute_result"
    },
    {
     "data": {
      "image/png": "[encoded data removed]",
      "text/plain": [
       "<Figure size 864x288 with 2 Axes>"
      ]
     },
     "metadata": {},
     "output_type": "display_data"
    }
   ],
   "source": [
    "receivedGrade.hist(by='First Gen', column='final grade', \n",
    "                   figsize=(12,4), xrot=90, xlabelsize=12, \n",
    "                   ylabelsize=12, layout=(1,2), bins=(0,0.5,1.0,1.5,2.0,2.5,3.0,3.5,4.0), \n",
    "                   color=('orange'), alpha=0.5)"
   ]
  },
  {
   "cell_type": "code",
   "execution_count": 200,
   "metadata": {},
   "outputs": [
    {
     "data": {
      "text/plain": [
       "array([[<matplotlib.axes._subplots.AxesSubplot object at 0x000001887520F208>,\n",
       "        <matplotlib.axes._subplots.AxesSubplot object at 0x00000188715FDB38>],\n",
       "       [<matplotlib.axes._subplots.AxesSubplot object at 0x0000018871CF29E8>,\n",
       "        <matplotlib.axes._subplots.AxesSubplot object at 0x0000018871CC60F0>],\n",
       "       [<matplotlib.axes._subplots.AxesSubplot object at 0x0000018871C6BF28>,\n",
       "        <matplotlib.axes._subplots.AxesSubplot object at 0x0000018871C6B438>],\n",
       "       [<matplotlib.axes._subplots.AxesSubplot object at 0x0000018871BDF358>,\n",
       "        <matplotlib.axes._subplots.AxesSubplot object at 0x00000188712AAC18>]],\n",
       "      dtype=object)"
      ]
     },
     "execution_count": 200,
     "metadata": {},
     "output_type": "execute_result"
    },
    {
     "data": {
      "image/png": "[encoded data removed]",
      "text/plain": [
       "<Figure size 1296x1296 with 8 Axes>"
      ]
     },
     "metadata": {},
     "output_type": "display_data"
    }
   ],
   "source": [
    "receivedGrade.hist(by='PHY 183 term', column='final grade', \n",
    "                   figsize=(18,18), xrot=90, xlabelsize=12, \n",
    "                   ylabelsize=12, layout=(4,2), bins=(0,0.5,1.0,1.5,2.0,2.5,3.0,3.5,4.0), \n",
    "                   color=('red'), alpha=0.5)"
   ]
  },
  {
   "cell_type": "markdown",
   "metadata": {},
   "source": [
    "## % of each ethnicity failing to meet the minimum average for STEM degree (1.5 or below)"
   ]
  },
  {
   "cell_type": "code",
   "execution_count": 191,
   "metadata": {},
   "outputs": [
    {
     "data": {
      "text/html": [
       "<div>\n",
       "<style scoped>\n",
       "    .dataframe tbody tr th:only-of-type {\n",
       "        vertical-align: middle;\n",
       "    }\n",
       "\n",
       "    .dataframe tbody tr th {\n",
       "        vertical-align: top;\n",
       "    }\n",
       "\n",
       "    .dataframe thead th {\n",
       "        text-align: right;\n",
       "    }\n",
       "</style>\n",
       "<table border=\"1\" class=\"dataframe\">\n",
       "  <thead>\n",
       "    <tr style=\"text-align: right;\">\n",
       "      <th></th>\n",
       "      <th>Identifier</th>\n",
       "      <th>Gndr_Flag</th>\n",
       "      <th>Ethnicity</th>\n",
       "      <th>First Gen</th>\n",
       "      <th>PHY 183 term</th>\n",
       "      <th>First day section</th>\n",
       "      <th>Quarter term section</th>\n",
       "      <th>final grade</th>\n",
       "    </tr>\n",
       "  </thead>\n",
       "  <tbody>\n",
       "    <tr>\n",
       "      <th>3</th>\n",
       "      <td>0131C37C-0336-4A9C-8988-CC605F5EE5A9</td>\n",
       "      <td>M</td>\n",
       "      <td>White (non-Hispanic)</td>\n",
       "      <td>N</td>\n",
       "      <td>FS14</td>\n",
       "      <td>2.0</td>\n",
       "      <td>2.0</td>\n",
       "      <td>3.5</td>\n",
       "    </tr>\n",
       "    <tr>\n",
       "      <th>4</th>\n",
       "      <td>01A6F74B-7A75-4E4A-B012-9909E17EA743</td>\n",
       "      <td>F</td>\n",
       "      <td>White (non-Hispanic)</td>\n",
       "      <td>N</td>\n",
       "      <td>FS14</td>\n",
       "      <td>4.0</td>\n",
       "      <td>4.0</td>\n",
       "      <td>3.5</td>\n",
       "    </tr>\n",
       "    <tr>\n",
       "      <th>5</th>\n",
       "      <td>01F78E3D-B388-439A-8BD8-6ACF6100BC63</td>\n",
       "      <td>M</td>\n",
       "      <td>White (non-Hispanic)</td>\n",
       "      <td>N</td>\n",
       "      <td>FS14</td>\n",
       "      <td>1.0</td>\n",
       "      <td>1.0</td>\n",
       "      <td>4.0</td>\n",
       "    </tr>\n",
       "    <tr>\n",
       "      <th>6</th>\n",
       "      <td>021F4550-87C1-4722-88D5-726B1182C2FF</td>\n",
       "      <td>M</td>\n",
       "      <td>White (non-Hispanic)</td>\n",
       "      <td>N</td>\n",
       "      <td>FS14</td>\n",
       "      <td>2.0</td>\n",
       "      <td>2.0</td>\n",
       "      <td>2.5</td>\n",
       "    </tr>\n",
       "    <tr>\n",
       "      <th>7</th>\n",
       "      <td>0236CA9F-42F5-47E5-8DA0-52DC4BEA9CC2</td>\n",
       "      <td>M</td>\n",
       "      <td>White (non-Hispanic)</td>\n",
       "      <td>N</td>\n",
       "      <td>FS14</td>\n",
       "      <td>3.0</td>\n",
       "      <td>3.0</td>\n",
       "      <td>3.0</td>\n",
       "    </tr>\n",
       "  </tbody>\n",
       "</table>\n",
       "</div>"
      ],
      "text/plain": [
       "                             Identifier Gndr_Flag             Ethnicity  \\\n",
       "3  0131C37C-0336-4A9C-8988-CC605F5EE5A9         M  White (non-Hispanic)   \n",
       "4  01A6F74B-7A75-4E4A-B012-9909E17EA743         F  White (non-Hispanic)   \n",
       "5  01F78E3D-B388-439A-8BD8-6ACF6100BC63         M  White (non-Hispanic)   \n",
       "6  021F4550-87C1-4722-88D5-726B1182C2FF         M  White (non-Hispanic)   \n",
       "7  0236CA9F-42F5-47E5-8DA0-52DC4BEA9CC2         M  White (non-Hispanic)   \n",
       "\n",
       "  First Gen PHY 183 term  First day section  Quarter term section  final grade  \n",
       "3         N         FS14                2.0                   2.0          3.5  \n",
       "4         N         FS14                4.0                   4.0          3.5  \n",
       "5         N         FS14                1.0                   1.0          4.0  \n",
       "6         N         FS14                2.0                   2.0          2.5  \n",
       "7         N         FS14                3.0                   3.0          3.0  "
      ]
     },
     "execution_count": 191,
     "metadata": {},
     "output_type": "execute_result"
    }
   ],
   "source": [
    "colors = [\"red\", \"orange\", \"blue\", \"green\", \"violet\"]\n",
    "\n",
    "underMinimum = receivedGrade.loc[ receivedGrade[\"final grade\"] <= 1.5 ].copy()\n",
    "aboveMinimum = receivedGrade.loc[ receivedGrade[\"final grade\"] >= 2.0 ].copy()\n",
    "threeAndAbove = receivedGrade.loc[ receivedGrade[\"final grade\"] >= 3.0 ].copy()\n",
    "aboveMinimum.head()\n"
   ]
  },
  {
   "cell_type": "code",
   "execution_count": 173,
   "metadata": {},
   "outputs": [
    {
     "data": {
      "text/plain": [
       "White (non-Hispanic)                         324\n",
       "Black or African American  (non-Hispanic)     78\n",
       "Asian (non-Hispanic)                          48\n",
       "Hispanic Ethnicity                            44\n",
       "Two or more races (non-Hispanic)              16\n",
       "Name: Ethnicity, dtype: int64"
      ]
     },
     "execution_count": 173,
     "metadata": {},
     "output_type": "execute_result"
    }
   ],
   "source": [
    "underMinimum[\"Ethnicity\"].value_counts()"
   ]
  },
  {
   "cell_type": "code",
   "execution_count": 174,
   "metadata": {},
   "outputs": [
    {
     "data": {
      "text/plain": [
       "White (non-Hispanic)                         3710\n",
       "Asian (non-Hispanic)                          418\n",
       "Black or African American  (non-Hispanic)     269\n",
       "Hispanic Ethnicity                            210\n",
       "Two or more races (non-Hispanic)              156\n",
       "Name: Ethnicity, dtype: int64"
      ]
     },
     "execution_count": 174,
     "metadata": {},
     "output_type": "execute_result"
    }
   ],
   "source": [
    "receivedGrade[\"Ethnicity\"].value_counts()"
   ]
  },
  {
   "cell_type": "code",
   "execution_count": 194,
   "metadata": {},
   "outputs": [
    {
     "data": {
      "text/plain": [
       "Asian (non-Hispanic)                         11.48325\n",
       "Black or African American  (non-Hispanic)    28.99628\n",
       "Hispanic Ethnicity                           20.95238\n",
       "Two or more races (non-Hispanic)             10.25641\n",
       "White (non-Hispanic)                          8.73315\n",
       "Name: Ethnicity, dtype: float64"
      ]
     },
     "execution_count": 194,
     "metadata": {},
     "output_type": "execute_result"
    }
   ],
   "source": [
    "underMinimumByEthnicity = 100*underMinimum[\"Ethnicity\"].value_counts()/receivedGrade[\"Ethnicity\"].value_counts()\n",
    "aboveMinimumByEthnicity = 100*aboveMinimum[\"Ethnicity\"].value_counts()/receivedGrade[\"Ethnicity\"].value_counts()\n",
    "threeAndAboveByEthnicity = 100*threeAndAbove[\"Ethnicity\"].value_counts()/receivedGrade['Ethnicity'].value_counts()\n",
    "underMinimumByEthnicity = underMinimumByEthnicity.sort_index()\n",
    "aboveMinimumByEthnicity = aboveMinimumByEthnicity.sort_index()\n",
    "threeAndAboveByEthnicity = threeAndAboveByEthnicity.sort_index()\n",
    "underMinimumByEthnicity.head()\n"
   ]
  },
  {
   "cell_type": "code",
   "execution_count": 207,
   "metadata": {},
   "outputs": [
    {
     "data": {
      "image/png": "[encoded data removed]",
      "text/plain": [
       "<Figure size 1152x324 with 3 Axes>"
      ]
     },
     "metadata": {},
     "output_type": "display_data"
    }
   ],
   "source": [
    "fig=plt.figure(figsize=(16, 4.5))\n",
    "fig.add_subplot(131)\n",
    "underMinimumByEthnicity.plot.bar(title=\"% of students receiving 1.5 or lower by ethnicity\", rot=80, color=colors)\n",
    "fig.add_subplot(132)\n",
    "aboveMinimumByEthnicity.plot.bar(title=\"% of students receiving 2.0 or higher by ethnicity\", rot=80, color=colors)\n",
    "fig.add_subplot(133)\n",
    "threeAndAboveByEthnicity.plot.bar(title=\"% of students receiving 3.0 or higher by ethnicity\", rot=80, color=colors)\n",
    "\n",
    "plt.show()"
   ]
  },
  {
   "cell_type": "code",
   "execution_count": null,
   "metadata": {},
   "outputs": [],
   "source": []
  }
 ],
 "metadata": {
  "kernelspec": {
   "display_name": "Python 3",
   "language": "python",
   "name": "python3"
  }
 },
 "nbformat": 4,
 "nbformat_minor": 2
}

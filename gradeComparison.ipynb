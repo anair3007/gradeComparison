{
 "cells": [
  {
   "cell_type": "markdown",
   "metadata": {},
   "source": [
    "# Exploratory analysis of 4 years of data of physics grades"
   ]
  },
  {
   "cell_type": "code",
   "execution_count": 606,
   "metadata": {},
   "outputs": [
    {
     "name": "stderr",
     "output_type": "stream",
     "text": [
      "Python 3.6.5 :: Anaconda, Inc.\n"
     ]
    }
   ],
   "source": [
    "!python -V #version of python"
   ]
  },
  {
   "cell_type": "code",
   "execution_count": 607,
   "metadata": {},
   "outputs": [],
   "source": [
    "import pandas as pd\n",
    "pd.set_option('display.max_columns', None)\n",
    "pd.set_option('precision', 5)\n",
    "import numpy as np\n",
    "import re\n",
    "from scipy import stats\n",
    "import matplotlib.pyplot as plt\n",
    "import matplotlib.cm as cm\n",
    "plt.style.use('tableau-colorblind10')"
   ]
  },
  {
   "cell_type": "markdown",
   "metadata": {},
   "source": [
    "#### Read in .csv and remove blank columns"
   ]
  },
  {
   "cell_type": "code",
   "execution_count": 608,
   "metadata": {},
   "outputs": [
    {
     "name": "stdout",
     "output_type": "stream",
     "text": [
      "physics course grade data read into dataframe successfully\n"
     ]
    },
    {
     "data": {
      "text/html": [
       "<div>\n",
       "<style scoped>\n",
       "    .dataframe tbody tr th:only-of-type {\n",
       "        vertical-align: middle;\n",
       "    }\n",
       "\n",
       "    .dataframe tbody tr th {\n",
       "        vertical-align: top;\n",
       "    }\n",
       "\n",
       "    .dataframe thead th {\n",
       "        text-align: right;\n",
       "    }\n",
       "</style>\n",
       "<table border=\"1\" class=\"dataframe\">\n",
       "  <thead>\n",
       "    <tr style=\"text-align: right;\">\n",
       "      <th></th>\n",
       "      <th>id</th>\n",
       "      <th>gender</th>\n",
       "      <th>ethnicity</th>\n",
       "      <th>firstgen</th>\n",
       "      <th>term</th>\n",
       "      <th>section</th>\n",
       "      <th>grade</th>\n",
       "    </tr>\n",
       "  </thead>\n",
       "  <tbody>\n",
       "    <tr>\n",
       "      <th>0</th>\n",
       "      <td>0080B044-2082-44C3-A6A1-A930DE7B456E</td>\n",
       "      <td>F</td>\n",
       "      <td>White (non-Hispanic)</td>\n",
       "      <td>Y</td>\n",
       "      <td>FS14</td>\n",
       "      <td>2.0</td>\n",
       "      <td>1.5</td>\n",
       "    </tr>\n",
       "    <tr>\n",
       "      <th>1</th>\n",
       "      <td>008CEDE8-726D-46F8-BEE0-B99200BA8DBD</td>\n",
       "      <td>F</td>\n",
       "      <td>Black or African American  (non-Hispanic)</td>\n",
       "      <td>N</td>\n",
       "      <td>FS14</td>\n",
       "      <td>1.0</td>\n",
       "      <td>1.5</td>\n",
       "    </tr>\n",
       "    <tr>\n",
       "      <th>2</th>\n",
       "      <td>013133EC-45FB-4627-A436-79E547F5795E</td>\n",
       "      <td>M</td>\n",
       "      <td>International</td>\n",
       "      <td>Y</td>\n",
       "      <td>FS14</td>\n",
       "      <td>1.0</td>\n",
       "      <td>4.0</td>\n",
       "    </tr>\n",
       "    <tr>\n",
       "      <th>3</th>\n",
       "      <td>0131C37C-0336-4A9C-8988-CC605F5EE5A9</td>\n",
       "      <td>M</td>\n",
       "      <td>White (non-Hispanic)</td>\n",
       "      <td>N</td>\n",
       "      <td>FS14</td>\n",
       "      <td>2.0</td>\n",
       "      <td>3.5</td>\n",
       "    </tr>\n",
       "    <tr>\n",
       "      <th>4</th>\n",
       "      <td>01A6F74B-7A75-4E4A-B012-9909E17EA743</td>\n",
       "      <td>F</td>\n",
       "      <td>White (non-Hispanic)</td>\n",
       "      <td>N</td>\n",
       "      <td>FS14</td>\n",
       "      <td>4.0</td>\n",
       "      <td>3.5</td>\n",
       "    </tr>\n",
       "  </tbody>\n",
       "</table>\n",
       "</div>"
      ],
      "text/plain": [
       "                                     id gender  \\\n",
       "0  0080B044-2082-44C3-A6A1-A930DE7B456E      F   \n",
       "1  008CEDE8-726D-46F8-BEE0-B99200BA8DBD      F   \n",
       "2  013133EC-45FB-4627-A436-79E547F5795E      M   \n",
       "3  0131C37C-0336-4A9C-8988-CC605F5EE5A9      M   \n",
       "4  01A6F74B-7A75-4E4A-B012-9909E17EA743      F   \n",
       "\n",
       "                                   ethnicity firstgen  term  section grade  \n",
       "0                       White (non-Hispanic)        Y  FS14      2.0   1.5  \n",
       "1  Black or African American  (non-Hispanic)        N  FS14      1.0   1.5  \n",
       "2                              International        Y  FS14      1.0   4.0  \n",
       "3                       White (non-Hispanic)        N  FS14      2.0   3.5  \n",
       "4                       White (non-Hispanic)        N  FS14      4.0   3.5  "
      ]
     },
     "execution_count": 608,
     "metadata": {},
     "output_type": "execute_result"
    }
   ],
   "source": [
    "df = pd.read_csv(\"grades.csv\")\n",
    "print(\"physics course grade data read into dataframe successfully\")\n",
    "df.drop(['First day section','Unnamed: 8','Unnamed: 9','Unnamed: 10','Unnamed: 11','Unnamed: 12'], axis=1, inplace=True)\n",
    "df.rename(inplace=True, \n",
    "          index=str, \n",
    "          columns={\n",
    "              \"Identifier\":\"id\",\n",
    "              \"Gndr_Flag\":\"gender\",\n",
    "              \"Ethnicity\":\"ethnicity\",\n",
    "              \"First Gen\":\"firstgen\",\n",
    "              \"PHY 183 term\":\"term\",\n",
    "              \"final grade\":\"grade\",\n",
    "              \"Quarter term section\":\"section\"\n",
    "          }                             \n",
    ")\n",
    "df.head()"
   ]
  },
  {
   "cell_type": "code",
   "execution_count": 609,
   "metadata": {},
   "outputs": [
    {
     "data": {
      "text/plain": [
       "(6345, 7)"
      ]
     },
     "execution_count": 609,
     "metadata": {},
     "output_type": "execute_result"
    }
   ],
   "source": [
    "df.shape"
   ]
  },
  {
   "cell_type": "code",
   "execution_count": 610,
   "metadata": {},
   "outputs": [
    {
     "data": {
      "text/plain": [
       "White (non-Hispanic)                             3941\n",
       "International                                    1193\n",
       "Asian (non-Hispanic)                              443\n",
       "Black or African American  (non-Hispanic)         304\n",
       "Hispanic Ethnicity                                230\n",
       "Two or more races (non-Hispanic)                  163\n",
       "Not Reported                                       56\n",
       "American Indian/Alaskan Native (non-Hispanic)       9\n",
       "Hawaiian / Pacific Islander (non-Hispanic)          6\n",
       "Name: ethnicity, dtype: int64"
      ]
     },
     "execution_count": 610,
     "metadata": {},
     "output_type": "execute_result"
    }
   ],
   "source": [
    "df['ethnicity'].value_counts()"
   ]
  },
  {
   "cell_type": "markdown",
   "metadata": {},
   "source": [
    "### Narrow to Domestic Students with reported ethnicity"
   ]
  },
  {
   "cell_type": "markdown",
   "metadata": {},
   "source": [
    "#### We are interested in looking at the effect of a student's ethnicity on final course grade. We are also interested in only domestic students since this project is aimed at addressing the calls for a more diverse STEM workforce. \n",
    "\n",
    "#### 1. Remove all rows that are of students that have Ethnicity values of \"International\" or \"Not Reported\"\n",
    "\n",
    "#### 2. Remove Hawaiian/Pacific Islander & American Indian/Alaskan Native since the N is so tiny"
   ]
  },
  {
   "cell_type": "code",
   "execution_count": 611,
   "metadata": {},
   "outputs": [],
   "source": [
    "#data = data[data.Ethnicity != 'International']\n",
    "#data = data[data.Ethnicity != 'Not Reported']\n",
    "\n",
    "domestic = df.loc[\n",
    "    (df.ethnicity != 'International') &\n",
    "    (df.ethnicity != 'Not Reported') &\n",
    "    (df.ethnicity != 'American Indian/Alaskan Native (non-Hispanic)') &\n",
    "    (df.ethnicity != 'Hawaiian / Pacific Islander (non-Hispanic)')\n",
    "].copy()"
   ]
  },
  {
   "cell_type": "code",
   "execution_count": 612,
   "metadata": {},
   "outputs": [
    {
     "data": {
      "text/plain": [
       "White (non-Hispanic)                         3941\n",
       "Asian (non-Hispanic)                          443\n",
       "Black or African American  (non-Hispanic)     304\n",
       "Hispanic Ethnicity                            230\n",
       "Two or more races (non-Hispanic)              163\n",
       "Name: ethnicity, dtype: int64"
      ]
     },
     "execution_count": 612,
     "metadata": {},
     "output_type": "execute_result"
    }
   ],
   "source": [
    "domestic['ethnicity'].value_counts()"
   ]
  },
  {
   "cell_type": "code",
   "execution_count": 613,
   "metadata": {},
   "outputs": [
    {
     "data": {
      "text/plain": [
       "(5081, 7)"
      ]
     },
     "execution_count": 613,
     "metadata": {},
     "output_type": "execute_result"
    }
   ],
   "source": [
    "domestic.shape"
   ]
  },
  {
   "cell_type": "markdown",
   "metadata": {},
   "source": [
    "### Separate students who received numeric grade (completed the course) and those that left the course (Dropped or Withdrawn)"
   ]
  },
  {
   "cell_type": "code",
   "execution_count": 614,
   "metadata": {},
   "outputs": [],
   "source": [
    "receivedGrade = domestic.loc[\n",
    "    (domestic['grade'] != '(dropped)') &\n",
    "    (domestic['grade'] != 'W') &\n",
    "    (domestic['grade'] != 'I') &\n",
    "    (domestic['grade'] != 'V')   \n",
    "].copy()\n",
    "leftCourse = domestic.loc[\n",
    "    (domestic['grade'] == '(dropped)') |\n",
    "    (domestic['grade'] == 'W') \n",
    "].copy()"
   ]
  },
  {
   "cell_type": "code",
   "execution_count": 615,
   "metadata": {},
   "outputs": [],
   "source": [
    "receivedGrade.dtypes\n",
    "#we've removed all strings from this column\n",
    "#now the 'final grade' column should be changed to dtype float\n",
    "receivedGrade['grade'] = receivedGrade['grade'].astype(float)\n"
   ]
  },
  {
   "cell_type": "markdown",
   "metadata": {},
   "source": [
    "***\n",
    "# <font color=green> SUMMARY TABLES</font>\n",
    "***\n",
    "\n",
    "### Everyone who received a grade that is Domestic + Stated Ethnicity"
   ]
  },
  {
   "cell_type": "code",
   "execution_count": 616,
   "metadata": {},
   "outputs": [
    {
     "data": {
      "text/plain": [
       "count    4763.00000\n",
       "mean        2.99097\n",
       "std         0.97174\n",
       "min         0.00000\n",
       "25%         2.50000\n",
       "50%         3.00000\n",
       "75%         3.50000\n",
       "max         4.00000\n",
       "Name: grade, dtype: float64"
      ]
     },
     "execution_count": 616,
     "metadata": {},
     "output_type": "execute_result"
    }
   ],
   "source": [
    "receivedGrade['grade'].describe()"
   ]
  },
  {
   "cell_type": "markdown",
   "metadata": {},
   "source": [
    "### Final grades grouped by Ethnicity"
   ]
  },
  {
   "cell_type": "code",
   "execution_count": 617,
   "metadata": {},
   "outputs": [
    {
     "data": {
      "text/html": [
       "<div>\n",
       "<style scoped>\n",
       "    .dataframe tbody tr th:only-of-type {\n",
       "        vertical-align: middle;\n",
       "    }\n",
       "\n",
       "    .dataframe tbody tr th {\n",
       "        vertical-align: top;\n",
       "    }\n",
       "\n",
       "    .dataframe thead th {\n",
       "        text-align: right;\n",
       "    }\n",
       "</style>\n",
       "<table border=\"1\" class=\"dataframe\">\n",
       "  <thead>\n",
       "    <tr style=\"text-align: right;\">\n",
       "      <th></th>\n",
       "      <th>count</th>\n",
       "      <th>mean</th>\n",
       "      <th>std</th>\n",
       "      <th>min</th>\n",
       "      <th>25%</th>\n",
       "      <th>50%</th>\n",
       "      <th>75%</th>\n",
       "      <th>max</th>\n",
       "    </tr>\n",
       "    <tr>\n",
       "      <th>ethnicity</th>\n",
       "      <th></th>\n",
       "      <th></th>\n",
       "      <th></th>\n",
       "      <th></th>\n",
       "      <th></th>\n",
       "      <th></th>\n",
       "      <th></th>\n",
       "      <th></th>\n",
       "    </tr>\n",
       "  </thead>\n",
       "  <tbody>\n",
       "    <tr>\n",
       "      <th>Asian (non-Hispanic)</th>\n",
       "      <td>418.0</td>\n",
       "      <td>2.94976</td>\n",
       "      <td>0.99513</td>\n",
       "      <td>0.0</td>\n",
       "      <td>2.5</td>\n",
       "      <td>3.0</td>\n",
       "      <td>3.5</td>\n",
       "      <td>4.0</td>\n",
       "    </tr>\n",
       "    <tr>\n",
       "      <th>Black or African American  (non-Hispanic)</th>\n",
       "      <td>269.0</td>\n",
       "      <td>2.25651</td>\n",
       "      <td>1.08638</td>\n",
       "      <td>0.0</td>\n",
       "      <td>1.5</td>\n",
       "      <td>2.5</td>\n",
       "      <td>3.0</td>\n",
       "      <td>4.0</td>\n",
       "    </tr>\n",
       "    <tr>\n",
       "      <th>Hispanic Ethnicity</th>\n",
       "      <td>210.0</td>\n",
       "      <td>2.55952</td>\n",
       "      <td>1.12392</td>\n",
       "      <td>0.0</td>\n",
       "      <td>2.0</td>\n",
       "      <td>3.0</td>\n",
       "      <td>3.5</td>\n",
       "      <td>4.0</td>\n",
       "    </tr>\n",
       "    <tr>\n",
       "      <th>Two or more races (non-Hispanic)</th>\n",
       "      <td>156.0</td>\n",
       "      <td>2.94872</td>\n",
       "      <td>1.01787</td>\n",
       "      <td>0.0</td>\n",
       "      <td>2.5</td>\n",
       "      <td>3.0</td>\n",
       "      <td>3.5</td>\n",
       "      <td>4.0</td>\n",
       "    </tr>\n",
       "    <tr>\n",
       "      <th>White (non-Hispanic)</th>\n",
       "      <td>3710.0</td>\n",
       "      <td>3.07507</td>\n",
       "      <td>0.91883</td>\n",
       "      <td>0.0</td>\n",
       "      <td>2.5</td>\n",
       "      <td>3.5</td>\n",
       "      <td>4.0</td>\n",
       "      <td>4.0</td>\n",
       "    </tr>\n",
       "  </tbody>\n",
       "</table>\n",
       "</div>"
      ],
      "text/plain": [
       "                                            count     mean      std  min  25%  \\\n",
       "ethnicity                                                                       \n",
       "Asian (non-Hispanic)                        418.0  2.94976  0.99513  0.0  2.5   \n",
       "Black or African American  (non-Hispanic)   269.0  2.25651  1.08638  0.0  1.5   \n",
       "Hispanic Ethnicity                          210.0  2.55952  1.12392  0.0  2.0   \n",
       "Two or more races (non-Hispanic)            156.0  2.94872  1.01787  0.0  2.5   \n",
       "White (non-Hispanic)                       3710.0  3.07507  0.91883  0.0  2.5   \n",
       "\n",
       "                                           50%  75%  max  \n",
       "ethnicity                                                 \n",
       "Asian (non-Hispanic)                       3.0  3.5  4.0  \n",
       "Black or African American  (non-Hispanic)  2.5  3.0  4.0  \n",
       "Hispanic Ethnicity                         3.0  3.5  4.0  \n",
       "Two or more races (non-Hispanic)           3.0  3.5  4.0  \n",
       "White (non-Hispanic)                       3.5  4.0  4.0  "
      ]
     },
     "execution_count": 617,
     "metadata": {},
     "output_type": "execute_result"
    }
   ],
   "source": [
    "receivedGrade.groupby(['ethnicity'])['grade'].describe()"
   ]
  },
  {
   "cell_type": "markdown",
   "metadata": {},
   "source": [
    "### Final grades grouped by Gender"
   ]
  },
  {
   "cell_type": "code",
   "execution_count": 618,
   "metadata": {
    "scrolled": true
   },
   "outputs": [
    {
     "data": {
      "text/html": [
       "<div>\n",
       "<style scoped>\n",
       "    .dataframe tbody tr th:only-of-type {\n",
       "        vertical-align: middle;\n",
       "    }\n",
       "\n",
       "    .dataframe tbody tr th {\n",
       "        vertical-align: top;\n",
       "    }\n",
       "\n",
       "    .dataframe thead th {\n",
       "        text-align: right;\n",
       "    }\n",
       "</style>\n",
       "<table border=\"1\" class=\"dataframe\">\n",
       "  <thead>\n",
       "    <tr style=\"text-align: right;\">\n",
       "      <th></th>\n",
       "      <th>count</th>\n",
       "      <th>mean</th>\n",
       "      <th>std</th>\n",
       "      <th>min</th>\n",
       "      <th>25%</th>\n",
       "      <th>50%</th>\n",
       "      <th>75%</th>\n",
       "      <th>max</th>\n",
       "    </tr>\n",
       "    <tr>\n",
       "      <th>gender</th>\n",
       "      <th></th>\n",
       "      <th></th>\n",
       "      <th></th>\n",
       "      <th></th>\n",
       "      <th></th>\n",
       "      <th></th>\n",
       "      <th></th>\n",
       "      <th></th>\n",
       "    </tr>\n",
       "  </thead>\n",
       "  <tbody>\n",
       "    <tr>\n",
       "      <th>F</th>\n",
       "      <td>1244.0</td>\n",
       "      <td>2.95619</td>\n",
       "      <td>0.97407</td>\n",
       "      <td>0.0</td>\n",
       "      <td>2.5</td>\n",
       "      <td>3.0</td>\n",
       "      <td>3.5</td>\n",
       "      <td>4.0</td>\n",
       "    </tr>\n",
       "    <tr>\n",
       "      <th>M</th>\n",
       "      <td>3519.0</td>\n",
       "      <td>3.00327</td>\n",
       "      <td>0.97075</td>\n",
       "      <td>0.0</td>\n",
       "      <td>2.5</td>\n",
       "      <td>3.0</td>\n",
       "      <td>3.5</td>\n",
       "      <td>4.0</td>\n",
       "    </tr>\n",
       "  </tbody>\n",
       "</table>\n",
       "</div>"
      ],
      "text/plain": [
       "         count     mean      std  min  25%  50%  75%  max\n",
       "gender                                                   \n",
       "F       1244.0  2.95619  0.97407  0.0  2.5  3.0  3.5  4.0\n",
       "M       3519.0  3.00327  0.97075  0.0  2.5  3.0  3.5  4.0"
      ]
     },
     "execution_count": 618,
     "metadata": {},
     "output_type": "execute_result"
    }
   ],
   "source": [
    "receivedGrade.groupby(['gender'])['grade'].describe()"
   ]
  },
  {
   "cell_type": "markdown",
   "metadata": {},
   "source": [
    "### Final grades grouped by Gender+Ethnicity"
   ]
  },
  {
   "cell_type": "code",
   "execution_count": 619,
   "metadata": {},
   "outputs": [
    {
     "data": {
      "text/html": [
       "<div>\n",
       "<style scoped>\n",
       "    .dataframe tbody tr th:only-of-type {\n",
       "        vertical-align: middle;\n",
       "    }\n",
       "\n",
       "    .dataframe tbody tr th {\n",
       "        vertical-align: top;\n",
       "    }\n",
       "\n",
       "    .dataframe thead th {\n",
       "        text-align: right;\n",
       "    }\n",
       "</style>\n",
       "<table border=\"1\" class=\"dataframe\">\n",
       "  <thead>\n",
       "    <tr style=\"text-align: right;\">\n",
       "      <th></th>\n",
       "      <th></th>\n",
       "      <th>count</th>\n",
       "      <th>mean</th>\n",
       "      <th>std</th>\n",
       "      <th>min</th>\n",
       "      <th>25%</th>\n",
       "      <th>50%</th>\n",
       "      <th>75%</th>\n",
       "      <th>max</th>\n",
       "    </tr>\n",
       "    <tr>\n",
       "      <th>ethnicity</th>\n",
       "      <th>gender</th>\n",
       "      <th></th>\n",
       "      <th></th>\n",
       "      <th></th>\n",
       "      <th></th>\n",
       "      <th></th>\n",
       "      <th></th>\n",
       "      <th></th>\n",
       "      <th></th>\n",
       "    </tr>\n",
       "  </thead>\n",
       "  <tbody>\n",
       "    <tr>\n",
       "      <th rowspan=\"2\" valign=\"top\">Asian (non-Hispanic)</th>\n",
       "      <th>F</th>\n",
       "      <td>102.0</td>\n",
       "      <td>2.84314</td>\n",
       "      <td>1.06701</td>\n",
       "      <td>0.0</td>\n",
       "      <td>2.125</td>\n",
       "      <td>3.0</td>\n",
       "      <td>3.5</td>\n",
       "      <td>4.0</td>\n",
       "    </tr>\n",
       "    <tr>\n",
       "      <th>M</th>\n",
       "      <td>316.0</td>\n",
       "      <td>2.98418</td>\n",
       "      <td>0.97006</td>\n",
       "      <td>0.0</td>\n",
       "      <td>2.500</td>\n",
       "      <td>3.0</td>\n",
       "      <td>3.5</td>\n",
       "      <td>4.0</td>\n",
       "    </tr>\n",
       "    <tr>\n",
       "      <th rowspan=\"2\" valign=\"top\">Black or African American  (non-Hispanic)</th>\n",
       "      <th>F</th>\n",
       "      <td>92.0</td>\n",
       "      <td>2.16304</td>\n",
       "      <td>1.13173</td>\n",
       "      <td>0.0</td>\n",
       "      <td>1.375</td>\n",
       "      <td>2.5</td>\n",
       "      <td>3.0</td>\n",
       "      <td>4.0</td>\n",
       "    </tr>\n",
       "    <tr>\n",
       "      <th>M</th>\n",
       "      <td>177.0</td>\n",
       "      <td>2.30508</td>\n",
       "      <td>1.06207</td>\n",
       "      <td>0.0</td>\n",
       "      <td>1.500</td>\n",
       "      <td>2.5</td>\n",
       "      <td>3.0</td>\n",
       "      <td>4.0</td>\n",
       "    </tr>\n",
       "    <tr>\n",
       "      <th rowspan=\"2\" valign=\"top\">Hispanic Ethnicity</th>\n",
       "      <th>F</th>\n",
       "      <td>51.0</td>\n",
       "      <td>2.56863</td>\n",
       "      <td>0.91662</td>\n",
       "      <td>0.0</td>\n",
       "      <td>2.000</td>\n",
       "      <td>2.5</td>\n",
       "      <td>3.0</td>\n",
       "      <td>4.0</td>\n",
       "    </tr>\n",
       "    <tr>\n",
       "      <th>M</th>\n",
       "      <td>159.0</td>\n",
       "      <td>2.55660</td>\n",
       "      <td>1.18533</td>\n",
       "      <td>0.0</td>\n",
       "      <td>2.000</td>\n",
       "      <td>3.0</td>\n",
       "      <td>3.5</td>\n",
       "      <td>4.0</td>\n",
       "    </tr>\n",
       "    <tr>\n",
       "      <th rowspan=\"2\" valign=\"top\">Two or more races (non-Hispanic)</th>\n",
       "      <th>F</th>\n",
       "      <td>42.0</td>\n",
       "      <td>2.75000</td>\n",
       "      <td>1.04910</td>\n",
       "      <td>0.0</td>\n",
       "      <td>2.500</td>\n",
       "      <td>3.0</td>\n",
       "      <td>3.5</td>\n",
       "      <td>4.0</td>\n",
       "    </tr>\n",
       "    <tr>\n",
       "      <th>M</th>\n",
       "      <td>114.0</td>\n",
       "      <td>3.02193</td>\n",
       "      <td>1.00086</td>\n",
       "      <td>0.0</td>\n",
       "      <td>2.500</td>\n",
       "      <td>3.5</td>\n",
       "      <td>4.0</td>\n",
       "      <td>4.0</td>\n",
       "    </tr>\n",
       "    <tr>\n",
       "      <th rowspan=\"2\" valign=\"top\">White (non-Hispanic)</th>\n",
       "      <th>F</th>\n",
       "      <td>957.0</td>\n",
       "      <td>3.07419</td>\n",
       "      <td>0.90254</td>\n",
       "      <td>0.0</td>\n",
       "      <td>2.500</td>\n",
       "      <td>3.5</td>\n",
       "      <td>3.5</td>\n",
       "      <td>4.0</td>\n",
       "    </tr>\n",
       "    <tr>\n",
       "      <th>M</th>\n",
       "      <td>2753.0</td>\n",
       "      <td>3.07537</td>\n",
       "      <td>0.92459</td>\n",
       "      <td>0.0</td>\n",
       "      <td>2.500</td>\n",
       "      <td>3.5</td>\n",
       "      <td>4.0</td>\n",
       "      <td>4.0</td>\n",
       "    </tr>\n",
       "  </tbody>\n",
       "</table>\n",
       "</div>"
      ],
      "text/plain": [
       "                                                   count     mean      std  \\\n",
       "ethnicity                                 gender                             \n",
       "Asian (non-Hispanic)                      F        102.0  2.84314  1.06701   \n",
       "                                          M        316.0  2.98418  0.97006   \n",
       "Black or African American  (non-Hispanic) F         92.0  2.16304  1.13173   \n",
       "                                          M        177.0  2.30508  1.06207   \n",
       "Hispanic Ethnicity                        F         51.0  2.56863  0.91662   \n",
       "                                          M        159.0  2.55660  1.18533   \n",
       "Two or more races (non-Hispanic)          F         42.0  2.75000  1.04910   \n",
       "                                          M        114.0  3.02193  1.00086   \n",
       "White (non-Hispanic)                      F        957.0  3.07419  0.90254   \n",
       "                                          M       2753.0  3.07537  0.92459   \n",
       "\n",
       "                                                  min    25%  50%  75%  max  \n",
       "ethnicity                                 gender                             \n",
       "Asian (non-Hispanic)                      F       0.0  2.125  3.0  3.5  4.0  \n",
       "                                          M       0.0  2.500  3.0  3.5  4.0  \n",
       "Black or African American  (non-Hispanic) F       0.0  1.375  2.5  3.0  4.0  \n",
       "                                          M       0.0  1.500  2.5  3.0  4.0  \n",
       "Hispanic Ethnicity                        F       0.0  2.000  2.5  3.0  4.0  \n",
       "                                          M       0.0  2.000  3.0  3.5  4.0  \n",
       "Two or more races (non-Hispanic)          F       0.0  2.500  3.0  3.5  4.0  \n",
       "                                          M       0.0  2.500  3.5  4.0  4.0  \n",
       "White (non-Hispanic)                      F       0.0  2.500  3.5  3.5  4.0  \n",
       "                                          M       0.0  2.500  3.5  4.0  4.0  "
      ]
     },
     "execution_count": 619,
     "metadata": {},
     "output_type": "execute_result"
    }
   ],
   "source": [
    "receivedGrade.groupby(['ethnicity','gender'])['grade'].describe()"
   ]
  },
  {
   "cell_type": "markdown",
   "metadata": {},
   "source": [
    "### Final grades grouped by Gender+First Generation"
   ]
  },
  {
   "cell_type": "code",
   "execution_count": 620,
   "metadata": {},
   "outputs": [
    {
     "data": {
      "text/html": [
       "<div>\n",
       "<style scoped>\n",
       "    .dataframe tbody tr th:only-of-type {\n",
       "        vertical-align: middle;\n",
       "    }\n",
       "\n",
       "    .dataframe tbody tr th {\n",
       "        vertical-align: top;\n",
       "    }\n",
       "\n",
       "    .dataframe thead th {\n",
       "        text-align: right;\n",
       "    }\n",
       "</style>\n",
       "<table border=\"1\" class=\"dataframe\">\n",
       "  <thead>\n",
       "    <tr style=\"text-align: right;\">\n",
       "      <th></th>\n",
       "      <th></th>\n",
       "      <th>count</th>\n",
       "      <th>mean</th>\n",
       "      <th>std</th>\n",
       "      <th>min</th>\n",
       "      <th>25%</th>\n",
       "      <th>50%</th>\n",
       "      <th>75%</th>\n",
       "      <th>max</th>\n",
       "    </tr>\n",
       "    <tr>\n",
       "      <th>ethnicity</th>\n",
       "      <th>firstgen</th>\n",
       "      <th></th>\n",
       "      <th></th>\n",
       "      <th></th>\n",
       "      <th></th>\n",
       "      <th></th>\n",
       "      <th></th>\n",
       "      <th></th>\n",
       "      <th></th>\n",
       "    </tr>\n",
       "  </thead>\n",
       "  <tbody>\n",
       "    <tr>\n",
       "      <th rowspan=\"2\" valign=\"top\">Asian (non-Hispanic)</th>\n",
       "      <th>N</th>\n",
       "      <td>294.0</td>\n",
       "      <td>3.02041</td>\n",
       "      <td>0.96682</td>\n",
       "      <td>0.0</td>\n",
       "      <td>2.500</td>\n",
       "      <td>3.0</td>\n",
       "      <td>4.0</td>\n",
       "      <td>4.0</td>\n",
       "    </tr>\n",
       "    <tr>\n",
       "      <th>Y</th>\n",
       "      <td>124.0</td>\n",
       "      <td>2.78226</td>\n",
       "      <td>1.04423</td>\n",
       "      <td>0.0</td>\n",
       "      <td>2.375</td>\n",
       "      <td>3.0</td>\n",
       "      <td>3.5</td>\n",
       "      <td>4.0</td>\n",
       "    </tr>\n",
       "    <tr>\n",
       "      <th rowspan=\"2\" valign=\"top\">Black or African American  (non-Hispanic)</th>\n",
       "      <th>N</th>\n",
       "      <td>174.0</td>\n",
       "      <td>2.32184</td>\n",
       "      <td>1.10693</td>\n",
       "      <td>0.0</td>\n",
       "      <td>1.500</td>\n",
       "      <td>2.5</td>\n",
       "      <td>3.0</td>\n",
       "      <td>4.0</td>\n",
       "    </tr>\n",
       "    <tr>\n",
       "      <th>Y</th>\n",
       "      <td>95.0</td>\n",
       "      <td>2.13684</td>\n",
       "      <td>1.04281</td>\n",
       "      <td>0.0</td>\n",
       "      <td>1.500</td>\n",
       "      <td>2.5</td>\n",
       "      <td>3.0</td>\n",
       "      <td>4.0</td>\n",
       "    </tr>\n",
       "    <tr>\n",
       "      <th rowspan=\"2\" valign=\"top\">Hispanic Ethnicity</th>\n",
       "      <th>N</th>\n",
       "      <td>131.0</td>\n",
       "      <td>2.76336</td>\n",
       "      <td>1.03465</td>\n",
       "      <td>0.0</td>\n",
       "      <td>2.500</td>\n",
       "      <td>3.0</td>\n",
       "      <td>3.5</td>\n",
       "      <td>4.0</td>\n",
       "    </tr>\n",
       "    <tr>\n",
       "      <th>Y</th>\n",
       "      <td>79.0</td>\n",
       "      <td>2.22152</td>\n",
       "      <td>1.18956</td>\n",
       "      <td>0.0</td>\n",
       "      <td>1.500</td>\n",
       "      <td>2.5</td>\n",
       "      <td>3.0</td>\n",
       "      <td>4.0</td>\n",
       "    </tr>\n",
       "    <tr>\n",
       "      <th rowspan=\"2\" valign=\"top\">Two or more races (non-Hispanic)</th>\n",
       "      <th>N</th>\n",
       "      <td>120.0</td>\n",
       "      <td>2.98750</td>\n",
       "      <td>1.07387</td>\n",
       "      <td>0.0</td>\n",
       "      <td>2.500</td>\n",
       "      <td>3.5</td>\n",
       "      <td>4.0</td>\n",
       "      <td>4.0</td>\n",
       "    </tr>\n",
       "    <tr>\n",
       "      <th>Y</th>\n",
       "      <td>36.0</td>\n",
       "      <td>2.81944</td>\n",
       "      <td>0.80314</td>\n",
       "      <td>1.0</td>\n",
       "      <td>2.000</td>\n",
       "      <td>3.0</td>\n",
       "      <td>3.5</td>\n",
       "      <td>4.0</td>\n",
       "    </tr>\n",
       "    <tr>\n",
       "      <th rowspan=\"2\" valign=\"top\">White (non-Hispanic)</th>\n",
       "      <th>N</th>\n",
       "      <td>3116.0</td>\n",
       "      <td>3.11280</td>\n",
       "      <td>0.90399</td>\n",
       "      <td>0.0</td>\n",
       "      <td>2.500</td>\n",
       "      <td>3.5</td>\n",
       "      <td>4.0</td>\n",
       "      <td>4.0</td>\n",
       "    </tr>\n",
       "    <tr>\n",
       "      <th>Y</th>\n",
       "      <td>594.0</td>\n",
       "      <td>2.87710</td>\n",
       "      <td>0.97007</td>\n",
       "      <td>0.0</td>\n",
       "      <td>2.500</td>\n",
       "      <td>3.0</td>\n",
       "      <td>3.5</td>\n",
       "      <td>4.0</td>\n",
       "    </tr>\n",
       "  </tbody>\n",
       "</table>\n",
       "</div>"
      ],
      "text/plain": [
       "                                                     count     mean      std  \\\n",
       "ethnicity                                 firstgen                             \n",
       "Asian (non-Hispanic)                      N          294.0  3.02041  0.96682   \n",
       "                                          Y          124.0  2.78226  1.04423   \n",
       "Black or African American  (non-Hispanic) N          174.0  2.32184  1.10693   \n",
       "                                          Y           95.0  2.13684  1.04281   \n",
       "Hispanic Ethnicity                        N          131.0  2.76336  1.03465   \n",
       "                                          Y           79.0  2.22152  1.18956   \n",
       "Two or more races (non-Hispanic)          N          120.0  2.98750  1.07387   \n",
       "                                          Y           36.0  2.81944  0.80314   \n",
       "White (non-Hispanic)                      N         3116.0  3.11280  0.90399   \n",
       "                                          Y          594.0  2.87710  0.97007   \n",
       "\n",
       "                                                    min    25%  50%  75%  max  \n",
       "ethnicity                                 firstgen                             \n",
       "Asian (non-Hispanic)                      N         0.0  2.500  3.0  4.0  4.0  \n",
       "                                          Y         0.0  2.375  3.0  3.5  4.0  \n",
       "Black or African American  (non-Hispanic) N         0.0  1.500  2.5  3.0  4.0  \n",
       "                                          Y         0.0  1.500  2.5  3.0  4.0  \n",
       "Hispanic Ethnicity                        N         0.0  2.500  3.0  3.5  4.0  \n",
       "                                          Y         0.0  1.500  2.5  3.0  4.0  \n",
       "Two or more races (non-Hispanic)          N         0.0  2.500  3.5  4.0  4.0  \n",
       "                                          Y         1.0  2.000  3.0  3.5  4.0  \n",
       "White (non-Hispanic)                      N         0.0  2.500  3.5  4.0  4.0  \n",
       "                                          Y         0.0  2.500  3.0  3.5  4.0  "
      ]
     },
     "execution_count": 620,
     "metadata": {},
     "output_type": "execute_result"
    }
   ],
   "source": [
    "receivedGrade.groupby(['ethnicity','firstgen'])['grade'].describe()"
   ]
  },
  {
   "cell_type": "markdown",
   "metadata": {},
   "source": [
    "***\n",
    "# <font color=red>Histograms of distributions</font>\n",
    "\n",
    "### grades by ethnicity"
   ]
  },
  {
   "cell_type": "code",
   "execution_count": 621,
   "metadata": {},
   "outputs": [
    {
     "data": {
      "image/png": "[encoded data removed]",
      "text/plain": [
       "<Figure size 1296x648 with 6 Axes>"
      ]
     },
     "metadata": {},
     "output_type": "display_data"
    }
   ],
   "source": [
    "receivedGrade.hist(by='ethnicity', column='grade', \n",
    "                   figsize=(18,9), xrot=90, xlabelsize=12, \n",
    "                   ylabelsize=12, layout=(2,3), bins=(0,0.5,1.0,1.5,2.0,2.5,3.0,3.5,4.0), \n",
    "                   color=('green'), alpha=0.5);"
   ]
  },
  {
   "cell_type": "markdown",
   "metadata": {},
   "source": [
    "### grades by gender"
   ]
  },
  {
   "cell_type": "code",
   "execution_count": 622,
   "metadata": {},
   "outputs": [
    {
     "data": {
      "image/png": "[encoded data removed]",
      "text/plain": [
       "<Figure size 864x288 with 2 Axes>"
      ]
     },
     "metadata": {},
     "output_type": "display_data"
    }
   ],
   "source": [
    "receivedGrade.hist(by='gender', column='grade', \n",
    "                   figsize=(12,4), xrot=90, xlabelsize=12, \n",
    "                   ylabelsize=12, layout=(1,2), bins=(0,0.5,1.0,1.5,2.0,2.5,3.0,3.5,4.0), \n",
    "                   color=('blue'), alpha=0.5);"
   ]
  },
  {
   "cell_type": "markdown",
   "metadata": {},
   "source": [
    "### grades by first generation college status"
   ]
  },
  {
   "cell_type": "code",
   "execution_count": 623,
   "metadata": {},
   "outputs": [
    {
     "data": {
      "image/png": "[encoded data removed]",
      "text/plain": [
       "<Figure size 864x216 with 2 Axes>"
      ]
     },
     "metadata": {},
     "output_type": "display_data"
    }
   ],
   "source": [
    "receivedGrade.hist(by='firstgen', column='grade', \n",
    "                   figsize=(12,3), xrot=90, xlabelsize=12, \n",
    "                   ylabelsize=12, layout=(1,2), bins=(0,0.5,1.0,1.5,2.0,2.5,3.0,3.5,4.0), \n",
    "                   color=('orange'), alpha=0.5);"
   ]
  },
  {
   "cell_type": "markdown",
   "metadata": {},
   "source": [
    "### grades by term"
   ]
  },
  {
   "cell_type": "code",
   "execution_count": 624,
   "metadata": {},
   "outputs": [
    {
     "data": {
      "image/png": "[encoded data removed]",
      "text/plain": [
       "<Figure size 1296x720 with 9 Axes>"
      ]
     },
     "metadata": {},
     "output_type": "display_data"
    }
   ],
   "source": [
    "receivedGrade.hist(by='term', column='grade', \n",
    "                   figsize=(18,10), xrot=90, xlabelsize=12, \n",
    "                   ylabelsize=12, layout=(3,3), bins=(0,0.5,1.0,1.5,2.0,2.5,3.0,3.5,4.0), \n",
    "                   color=('red'), alpha=0.5);"
   ]
  },
  {
   "cell_type": "markdown",
   "metadata": {},
   "source": [
    "***\n",
    "# Plots with fraction of ethnicities in each grade range"
   ]
  },
  {
   "cell_type": "code",
   "execution_count": 673,
   "metadata": {},
   "outputs": [
    {
     "data": {
      "text/html": [
       "<div>\n",
       "<style scoped>\n",
       "    .dataframe tbody tr th:only-of-type {\n",
       "        vertical-align: middle;\n",
       "    }\n",
       "\n",
       "    .dataframe tbody tr th {\n",
       "        vertical-align: top;\n",
       "    }\n",
       "\n",
       "    .dataframe thead th {\n",
       "        text-align: right;\n",
       "    }\n",
       "</style>\n",
       "<table border=\"1\" class=\"dataframe\">\n",
       "  <thead>\n",
       "    <tr style=\"text-align: right;\">\n",
       "      <th>ethnicity</th>\n",
       "      <th>Asian (non-Hispanic)</th>\n",
       "      <th>Black or African American  (non-Hispanic)</th>\n",
       "      <th>Hispanic Ethnicity</th>\n",
       "      <th>Two or more races (non-Hispanic)</th>\n",
       "      <th>White (non-Hispanic)</th>\n",
       "    </tr>\n",
       "    <tr>\n",
       "      <th>gradeCategory</th>\n",
       "      <th></th>\n",
       "      <th></th>\n",
       "      <th></th>\n",
       "      <th></th>\n",
       "      <th></th>\n",
       "    </tr>\n",
       "  </thead>\n",
       "  <tbody>\n",
       "    <tr>\n",
       "      <th>(0.0-1.5)</th>\n",
       "      <td>0.11483</td>\n",
       "      <td>0.28996</td>\n",
       "      <td>0.20952</td>\n",
       "      <td>0.10256</td>\n",
       "      <td>0.08733</td>\n",
       "    </tr>\n",
       "    <tr>\n",
       "      <th>(2.0-2.5)</th>\n",
       "      <td>0.21292</td>\n",
       "      <td>0.33829</td>\n",
       "      <td>0.26190</td>\n",
       "      <td>0.25000</td>\n",
       "      <td>0.19784</td>\n",
       "    </tr>\n",
       "    <tr>\n",
       "      <th>(3.0-4.0)</th>\n",
       "      <td>0.67225</td>\n",
       "      <td>0.37175</td>\n",
       "      <td>0.52857</td>\n",
       "      <td>0.64744</td>\n",
       "      <td>0.71482</td>\n",
       "    </tr>\n",
       "  </tbody>\n",
       "</table>\n",
       "</div>"
      ],
      "text/plain": [
       "ethnicity      Asian (non-Hispanic)  \\\n",
       "gradeCategory                         \n",
       "(0.0-1.5)                   0.11483   \n",
       "(2.0-2.5)                   0.21292   \n",
       "(3.0-4.0)                   0.67225   \n",
       "\n",
       "ethnicity      Black or African American  (non-Hispanic)  Hispanic Ethnicity  \\\n",
       "gradeCategory                                                                  \n",
       "(0.0-1.5)                                        0.28996             0.20952   \n",
       "(2.0-2.5)                                        0.33829             0.26190   \n",
       "(3.0-4.0)                                        0.37175             0.52857   \n",
       "\n",
       "ethnicity      Two or more races (non-Hispanic)  White (non-Hispanic)  \n",
       "gradeCategory                                                          \n",
       "(0.0-1.5)                               0.10256               0.08733  \n",
       "(2.0-2.5)                               0.25000               0.19784  \n",
       "(3.0-4.0)                               0.64744               0.71482  "
      ]
     },
     "execution_count": 673,
     "metadata": {},
     "output_type": "execute_result"
    }
   ],
   "source": [
    "conditions = [\n",
    "                (receivedGrade['grade']<=1.5),\n",
    "                (receivedGrade['grade']>=2.0) & (receivedGrade['grade']<3.0),\n",
    "                (receivedGrade['grade']>=3.0)\n",
    "]\n",
    "choices = ['(0.0-1.5)','(2.0-2.5)','(3.0-4.0)']\n",
    "receivedGrade['gradeCategory'] = np.select(conditions, choices, default=False)\n",
    "\n",
    "InGradeCategory = receivedGrade.groupby(['gradeCategory','ethnicity'])['grade'].count().unstack()\n",
    "totalInEthnicity = receivedGrade.groupby(['ethnicity'])['grade'].count().head()\n",
    "\n",
    "for i in range(0,5):\n",
    "    InGradeCategory.iloc[:,i] = InGradeCategory.iloc[:,i]/totalInEthnicity.iloc[i]\n",
    "InGradeCategory"
   ]
  },
  {
   "cell_type": "code",
   "execution_count": 672,
   "metadata": {},
   "outputs": [
    {
     "data": {
      "text/plain": [
       "Text(0,0.5,'Fraction of Ethnicity Group')"
      ]
     },
     "execution_count": 672,
     "metadata": {},
     "output_type": "execute_result"
    },
    {
     "data": {
      "image/png": "[encoded data removed]",
      "text/plain": [
       "<Figure size 720x360 with 1 Axes>"
      ]
     },
     "metadata": {},
     "output_type": "display_data"
    }
   ],
   "source": [
    "ax = InGradeCategory.plot(kind='bar',\n",
    "            title='Fraction of Ethnicities in each grade range',\n",
    "            fontsize=12, rot=0,figsize=(10,5))\n",
    "ax.set_xlabel('Grade Groups & Ethniticities')\n",
    "ax.set_ylabel('Fraction of Ethnicity Group')\n"
   ]
  },
  {
   "cell_type": "code",
   "execution_count": 626,
   "metadata": {},
   "outputs": [
    {
     "data": {
      "text/plain": [
       "gradeCategory  ethnicity                                \n",
       "0.0-1.5        Asian (non-Hispanic)                          48\n",
       "               Black or African American  (non-Hispanic)     78\n",
       "               Hispanic Ethnicity                            44\n",
       "               Two or more races (non-Hispanic)              16\n",
       "               White (non-Hispanic)                         324\n",
       "Name: grade, dtype: int64"
      ]
     },
     "execution_count": 626,
     "metadata": {},
     "output_type": "execute_result"
    }
   ],
   "source": [
    "receivedGrade.groupby(['gradeCategory','ethnicity'])['grade'].count().head()"
   ]
  },
  {
   "cell_type": "code",
   "execution_count": 627,
   "metadata": {},
   "outputs": [
    {
     "data": {
      "text/plain": [
       "ethnicity\n",
       "Asian (non-Hispanic)                          418\n",
       "Black or African American  (non-Hispanic)     269\n",
       "Hispanic Ethnicity                            210\n",
       "Two or more races (non-Hispanic)              156\n",
       "White (non-Hispanic)                         3710\n",
       "Name: grade, dtype: int64"
      ]
     },
     "execution_count": 627,
     "metadata": {},
     "output_type": "execute_result"
    }
   ],
   "source": [
    "receivedGrade.groupby(['ethnicity'])['grade'].count()"
   ]
  },
  {
   "cell_type": "markdown",
   "metadata": {},
   "source": [
    "# Older uglier plots"
   ]
  },
  {
   "cell_type": "code",
   "execution_count": 671,
   "metadata": {},
   "outputs": [
    {
     "data": {
      "image/png": "[encoded data removed]",
      "text/plain": [
       "<Figure size 1152x324 with 3 Axes>"
      ]
     },
     "metadata": {},
     "output_type": "display_data"
    }
   ],
   "source": [
    "underMinimum = receivedGrade.loc[ receivedGrade[\"grade\"] <= 1.5 ].copy()\n",
    "aboveMinimum = receivedGrade.loc[ receivedGrade[\"grade\"] >= 2.0 ].copy()\n",
    "threeAndAbove = receivedGrade.loc[ receivedGrade[\"grade\"] >= 3.0 ].copy()\n",
    "\n",
    "underMinimumByEthnicity = 100*underMinimum['ethnicity'].value_counts()/receivedGrade['ethnicity'].value_counts()\n",
    "aboveMinimumByEthnicity = 100*aboveMinimum['ethnicity'].value_counts()/receivedGrade['ethnicity'].value_counts()\n",
    "threeAndAboveByEthnicity = 100*threeAndAbove['ethnicity'].value_counts()/receivedGrade['ethnicity'].value_counts()\n",
    "underMinimumByEthnicity = underMinimumByEthnicity.sort_index()\n",
    "aboveMinimumByEthnicity = aboveMinimumByEthnicity.sort_index()\n",
    "threeAndAboveByEthnicity = threeAndAboveByEthnicity.sort_index()\n",
    "\n",
    "fig=plt.figure(figsize=(16, 4.5))\n",
    "fig.add_subplot(131)\n",
    "underMinimumByEthnicity.plot.bar(\n",
    "    title=\"% of ethnicity groups receiving 1.5 or lower\", \n",
    "    )\n",
    "fig.add_subplot(132)\n",
    "aboveMinimumByEthnicity.plot.bar(title=\"% of ethnicity groups receiving 2.0 or higher\")\n",
    "fig.add_subplot(133)\n",
    "threeAndAboveByEthnicity.plot.bar(title=\"% of ethnicity groups receiving 3.0 or higher\")\n",
    "plt.show()"
   ]
  },
  {
   "cell_type": "markdown",
   "metadata": {},
   "source": [
    "***\n",
    "# TESTS FOR SIGNIFICANCE\n",
    "\n",
    "### (Comparing Distributions) Mann-Whitney-Wilcoxon (MWW) RankSums"
   ]
  },
  {
   "cell_type": "code",
   "execution_count": 629,
   "metadata": {
    "scrolled": true
   },
   "outputs": [
    {
     "name": "stdout",
     "output_type": "stream",
     "text": [
      "Comparing grade distributions of White and Black students p = 0.000000000\n",
      "Comparing grade distributions of White and Asian students p = 0.018006612\n",
      "Comparing grade distributions of White and Hispanic students p = 0.000000000\n",
      "Comparing grade distributions of White and Multiracial students p = 0.167840284\n"
     ]
    }
   ],
   "source": [
    "z_stat, p_val = stats.ranksums(\n",
    "    receivedGrade.loc[receivedGrade['ethnicity'] == 'White (non-Hispanic)']['grade'],\n",
    "    receivedGrade.loc[receivedGrade['ethnicity'] == 'Black or African American  (non-Hispanic)']['grade']\n",
    ")\n",
    "receivedGrade.loc[receivedGrade['ethnicity'] == 'White (non-Hispanic)']['grade'].mean()\n",
    "receivedGrade.loc[receivedGrade['ethnicity'] == 'Black or African American  (non-Hispanic)']['grade'].mean()\n",
    "\n",
    "print(\"Comparing grade distributions of White and Black students p =\", format(p_val, '.9f'))\n",
    "\n",
    "\n",
    "z_stat, p_val = stats.ranksums(\n",
    "    receivedGrade.loc[receivedGrade['ethnicity'] == 'White (non-Hispanic)']['grade'],\n",
    "    receivedGrade.loc[receivedGrade['ethnicity'] == 'Asian (non-Hispanic)']['grade']\n",
    ")\n",
    "print(\"Comparing grade distributions of White and Asian students p =\", format(p_val, '.9f'))\n",
    "\n",
    "\n",
    "z_stat, p_val = stats.ranksums(\n",
    "    receivedGrade.loc[receivedGrade['ethnicity'] == 'White (non-Hispanic)']['grade'],\n",
    "    receivedGrade.loc[receivedGrade['ethnicity'] == 'Hispanic Ethnicity']['grade']\n",
    ")\n",
    "print(\"Comparing grade distributions of White and Hispanic students p =\", format(p_val, '.9f'))\n",
    "\n",
    "\n",
    "z_stat, p_val = stats.ranksums(\n",
    "    receivedGrade.loc[receivedGrade['ethnicity'] == 'White (non-Hispanic)']['grade'],\n",
    "    receivedGrade.loc[receivedGrade['ethnicity'] == 'Two or more races (non-Hispanic)']['grade']\n",
    ")\n",
    "print(\"Comparing grade distributions of White and Multiracial students p =\",format(p_val,'.9f'))"
   ]
  },
  {
   "cell_type": "code",
   "execution_count": null,
   "metadata": {},
   "outputs": [],
   "source": []
  }
 ],
 "metadata": {
  "kernelspec": {
   "display_name": "Python 3",
   "language": "python",
   "name": "python3"
  },
  "language_info": {
   "codemirror_mode": {
    "name": "ipython",
    "version": 3
   },
   "file_extension": ".py",
   "mimetype": "text/x-python",
   "name": "python",
   "nbconvert_exporter": "python",
   "pygments_lexer": "ipython3",
   "version": "3.6.5"
  }
 },
 "nbformat": 4,
 "nbformat_minor": 2
}

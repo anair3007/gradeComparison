{
 "cells": [
  {
   "cell_type": "markdown",
   "metadata": {},
   "source": [
    "# Exploratory analysis of 4 years of data of physics grades"
   ]
  },
  {
   "cell_type": "code",
   "execution_count": 37,
   "metadata": {},
   "outputs": [
    {
     "name": "stderr",
     "output_type": "stream",
     "text": [
      "Python 3.6.5 :: Anaconda, Inc.\n"
     ]
    }
   ],
   "source": [
    "!python -V #version of python"
   ]
  },
  {
   "cell_type": "code",
   "execution_count": 38,
   "metadata": {},
   "outputs": [],
   "source": [
    "import pandas as pd\n",
    "pd.set_option('display.max_columns', None)\n",
    "pd.set_option('precision', 5)\n",
    "import numpy as np\n",
    "import re\n",
    "from scipy import stats"
   ]
  },
  {
   "cell_type": "markdown",
   "metadata": {},
   "source": [
    "#### Read in .csv and remove blank columns"
   ]
  },
  {
   "cell_type": "code",
   "execution_count": 39,
   "metadata": {},
   "outputs": [
    {
     "name": "stdout",
     "output_type": "stream",
     "text": [
      "physics course grade data read into dataframe successfully\n"
     ]
    },
    {
     "data": {
      "text/html": [
       "<div>\n",
       "<style scoped>\n",
       "    .dataframe tbody tr th:only-of-type {\n",
       "        vertical-align: middle;\n",
       "    }\n",
       "\n",
       "    .dataframe tbody tr th {\n",
       "        vertical-align: top;\n",
       "    }\n",
       "\n",
       "    .dataframe thead th {\n",
       "        text-align: right;\n",
       "    }\n",
       "</style>\n",
       "<table border=\"1\" class=\"dataframe\">\n",
       "  <thead>\n",
       "    <tr style=\"text-align: right;\">\n",
       "      <th></th>\n",
       "      <th>Identifier</th>\n",
       "      <th>Gndr_Flag</th>\n",
       "      <th>Ethnicity</th>\n",
       "      <th>First Gen</th>\n",
       "      <th>PHY 183 term</th>\n",
       "      <th>First day section</th>\n",
       "      <th>Quarter term section</th>\n",
       "      <th>final grade</th>\n",
       "    </tr>\n",
       "  </thead>\n",
       "  <tbody>\n",
       "    <tr>\n",
       "      <th>0</th>\n",
       "      <td>0080B044-2082-44C3-A6A1-A930DE7B456E</td>\n",
       "      <td>F</td>\n",
       "      <td>White (non-Hispanic)</td>\n",
       "      <td>Y</td>\n",
       "      <td>FS14</td>\n",
       "      <td>2.0</td>\n",
       "      <td>2.0</td>\n",
       "      <td>1.5</td>\n",
       "    </tr>\n",
       "    <tr>\n",
       "      <th>1</th>\n",
       "      <td>008CEDE8-726D-46F8-BEE0-B99200BA8DBD</td>\n",
       "      <td>F</td>\n",
       "      <td>Black or African American  (non-Hispanic)</td>\n",
       "      <td>N</td>\n",
       "      <td>FS14</td>\n",
       "      <td>1.0</td>\n",
       "      <td>1.0</td>\n",
       "      <td>1.5</td>\n",
       "    </tr>\n",
       "    <tr>\n",
       "      <th>2</th>\n",
       "      <td>013133EC-45FB-4627-A436-79E547F5795E</td>\n",
       "      <td>M</td>\n",
       "      <td>International</td>\n",
       "      <td>Y</td>\n",
       "      <td>FS14</td>\n",
       "      <td>1.0</td>\n",
       "      <td>1.0</td>\n",
       "      <td>4.0</td>\n",
       "    </tr>\n",
       "    <tr>\n",
       "      <th>3</th>\n",
       "      <td>0131C37C-0336-4A9C-8988-CC605F5EE5A9</td>\n",
       "      <td>M</td>\n",
       "      <td>White (non-Hispanic)</td>\n",
       "      <td>N</td>\n",
       "      <td>FS14</td>\n",
       "      <td>2.0</td>\n",
       "      <td>2.0</td>\n",
       "      <td>3.5</td>\n",
       "    </tr>\n",
       "    <tr>\n",
       "      <th>4</th>\n",
       "      <td>01A6F74B-7A75-4E4A-B012-9909E17EA743</td>\n",
       "      <td>F</td>\n",
       "      <td>White (non-Hispanic)</td>\n",
       "      <td>N</td>\n",
       "      <td>FS14</td>\n",
       "      <td>4.0</td>\n",
       "      <td>4.0</td>\n",
       "      <td>3.5</td>\n",
       "    </tr>\n",
       "  </tbody>\n",
       "</table>\n",
       "</div>"
      ],
      "text/plain": [
       "                             Identifier Gndr_Flag  \\\n",
       "0  0080B044-2082-44C3-A6A1-A930DE7B456E         F   \n",
       "1  008CEDE8-726D-46F8-BEE0-B99200BA8DBD         F   \n",
       "2  013133EC-45FB-4627-A436-79E547F5795E         M   \n",
       "3  0131C37C-0336-4A9C-8988-CC605F5EE5A9         M   \n",
       "4  01A6F74B-7A75-4E4A-B012-9909E17EA743         F   \n",
       "\n",
       "                                   Ethnicity First Gen PHY 183 term  \\\n",
       "0                       White (non-Hispanic)         Y         FS14   \n",
       "1  Black or African American  (non-Hispanic)         N         FS14   \n",
       "2                              International         Y         FS14   \n",
       "3                       White (non-Hispanic)         N         FS14   \n",
       "4                       White (non-Hispanic)         N         FS14   \n",
       "\n",
       "   First day section  Quarter term section final grade  \n",
       "0                2.0                   2.0         1.5  \n",
       "1                1.0                   1.0         1.5  \n",
       "2                1.0                   1.0         4.0  \n",
       "3                2.0                   2.0         3.5  \n",
       "4                4.0                   4.0         3.5  "
      ]
     },
     "execution_count": 39,
     "metadata": {},
     "output_type": "execute_result"
    }
   ],
   "source": [
    "data = pd.read_csv(\"grades.csv\")\n",
    "print(\"physics course grade data read into dataframe successfully\")\n",
    "data.drop(['Unnamed: 8','Unnamed: 9','Unnamed: 10','Unnamed: 11','Unnamed: 12'], axis=1, inplace=True)\n",
    "data.head()"
   ]
  },
  {
   "cell_type": "code",
   "execution_count": 40,
   "metadata": {},
   "outputs": [
    {
     "data": {
      "text/plain": [
       "(6345, 8)"
      ]
     },
     "execution_count": 40,
     "metadata": {},
     "output_type": "execute_result"
    }
   ],
   "source": [
    "data.shape"
   ]
  },
  {
   "cell_type": "code",
   "execution_count": 41,
   "metadata": {},
   "outputs": [
    {
     "data": {
      "text/plain": [
       "White (non-Hispanic)                             3941\n",
       "International                                    1193\n",
       "Asian (non-Hispanic)                              443\n",
       "Black or African American  (non-Hispanic)         304\n",
       "Hispanic Ethnicity                                230\n",
       "Two or more races (non-Hispanic)                  163\n",
       "Not Reported                                       56\n",
       "American Indian/Alaskan Native (non-Hispanic)       9\n",
       "Hawaiian / Pacific Islander (non-Hispanic)          6\n",
       "Name: Ethnicity, dtype: int64"
      ]
     },
     "execution_count": 41,
     "metadata": {},
     "output_type": "execute_result"
    }
   ],
   "source": [
    "data[\"Ethnicity\"].value_counts()"
   ]
  },
  {
   "cell_type": "markdown",
   "metadata": {},
   "source": [
    "### Narrow to Domestic Students with reported ethnicity"
   ]
  },
  {
   "cell_type": "markdown",
   "metadata": {},
   "source": [
    "#### We are interested in looking at the effect of a student's ethnicity on final course grade. We are also interested in only domestic students since this project is aimed at addressing the calls for a more diverse STEM workforce. \n",
    "\n",
    "#### 1. Remove all rows that are of students that have Ethnicity values of \"International\" or \"Not Reported\"\n",
    "\n",
    "#### 2. Remove Hawaiian/Pacific Islander & American Indian/Alaskan Native since the N is so tiny"
   ]
  },
  {
   "cell_type": "code",
   "execution_count": 42,
   "metadata": {},
   "outputs": [],
   "source": [
    "#data = data[data.Ethnicity != 'International']\n",
    "#data = data[data.Ethnicity != 'Not Reported']\n",
    "\n",
    "domestic = data.loc[\n",
    "    (data.Ethnicity != 'International') &\n",
    "    (data.Ethnicity != 'Not Reported') &\n",
    "    (data.Ethnicity != 'American Indian/Alaskan Native (non-Hispanic)') &\n",
    "    (data.Ethnicity != 'Hawaiian / Pacific Islander (non-Hispanic)')\n",
    "].copy()"
   ]
  },
  {
   "cell_type": "code",
   "execution_count": 43,
   "metadata": {},
   "outputs": [
    {
     "data": {
      "text/plain": [
       "White (non-Hispanic)                         3941\n",
       "Asian (non-Hispanic)                          443\n",
       "Black or African American  (non-Hispanic)     304\n",
       "Hispanic Ethnicity                            230\n",
       "Two or more races (non-Hispanic)              163\n",
       "Name: Ethnicity, dtype: int64"
      ]
     },
     "execution_count": 43,
     "metadata": {},
     "output_type": "execute_result"
    }
   ],
   "source": [
    "domestic[\"Ethnicity\"].value_counts()"
   ]
  },
  {
   "cell_type": "code",
   "execution_count": 44,
   "metadata": {},
   "outputs": [
    {
     "data": {
      "text/plain": [
       "(5081, 8)"
      ]
     },
     "execution_count": 44,
     "metadata": {},
     "output_type": "execute_result"
    }
   ],
   "source": [
    "domestic.shape"
   ]
  },
  {
   "cell_type": "markdown",
   "metadata": {},
   "source": [
    "### Separate students who received numeric grade (completed the course) and those that left the course (Dropped or Withdrawn)"
   ]
  },
  {
   "cell_type": "code",
   "execution_count": 45,
   "metadata": {},
   "outputs": [],
   "source": [
    "receivedGrade = domestic.loc[\n",
    "    (domestic[\"final grade\"] != '(dropped)') &\n",
    "    (domestic[\"final grade\"] != 'W') &\n",
    "    (domestic[\"final grade\"] != 'V')   \n",
    "].copy()\n",
    "leftCourse = domestic.loc[\n",
    "    (domestic[\"final grade\"] == '(dropped)') |\n",
    "    (domestic[\"final grade\"] == 'W') \n",
    "].copy()"
   ]
  },
  {
   "cell_type": "code",
   "execution_count": 46,
   "metadata": {},
   "outputs": [],
   "source": [
    "receivedGrade.dtypes\n",
    "receivedGrade['final grade'] = receivedGrade['final grade'].astype(float)\n"
   ]
  },
  {
   "cell_type": "markdown",
   "metadata": {},
   "source": [
    "#### This is the total average grade of everyone who received a grade that is Domestic + Stated Ethnicity"
   ]
  },
  {
   "cell_type": "code",
   "execution_count": 47,
   "metadata": {},
   "outputs": [
    {
     "data": {
      "text/plain": [
       "count    4763.00000\n",
       "mean        2.99097\n",
       "std         0.97174\n",
       "min         0.00000\n",
       "25%         2.50000\n",
       "50%         3.00000\n",
       "75%         3.50000\n",
       "max         4.00000\n",
       "Name: final grade, dtype: float64"
      ]
     },
     "execution_count": 47,
     "metadata": {},
     "output_type": "execute_result"
    }
   ],
   "source": [
    "receivedGrade['final grade'].describe()"
   ]
  },
  {
   "cell_type": "markdown",
   "metadata": {},
   "source": [
    "### Summary of White (non-Hispanic) student grades"
   ]
  },
  {
   "cell_type": "code",
   "execution_count": 48,
   "metadata": {},
   "outputs": [
    {
     "data": {
      "text/plain": [
       "count    3710.00000\n",
       "mean        3.07507\n",
       "std         0.91883\n",
       "min         0.00000\n",
       "25%         2.50000\n",
       "50%         3.50000\n",
       "75%         4.00000\n",
       "max         4.00000\n",
       "Name: final grade, dtype: float64"
      ]
     },
     "execution_count": 48,
     "metadata": {},
     "output_type": "execute_result"
    }
   ],
   "source": [
    "receivedGrade.loc[receivedGrade[\"Ethnicity\"] == 'White (non-Hispanic)'][\"final grade\"].describe()"
   ]
  },
  {
   "cell_type": "markdown",
   "metadata": {},
   "source": [
    "### Summary of Black or African American (non-Hispanic) student grades"
   ]
  },
  {
   "cell_type": "code",
   "execution_count": 49,
   "metadata": {},
   "outputs": [
    {
     "data": {
      "text/plain": [
       "count    269.00000\n",
       "mean       2.25651\n",
       "std        1.08638\n",
       "min        0.00000\n",
       "25%        1.50000\n",
       "50%        2.50000\n",
       "75%        3.00000\n",
       "max        4.00000\n",
       "Name: final grade, dtype: float64"
      ]
     },
     "execution_count": 49,
     "metadata": {},
     "output_type": "execute_result"
    }
   ],
   "source": [
    "receivedGrade.loc[receivedGrade[\"Ethnicity\"] == 'Black or African American  (non-Hispanic)'][\"final grade\"].describe()"
   ]
  },
  {
   "cell_type": "markdown",
   "metadata": {},
   "source": [
    "### Summary of Hispanic student grades"
   ]
  },
  {
   "cell_type": "code",
   "execution_count": 50,
   "metadata": {},
   "outputs": [
    {
     "data": {
      "text/plain": [
       "count    210.00000\n",
       "mean       2.55952\n",
       "std        1.12392\n",
       "min        0.00000\n",
       "25%        2.00000\n",
       "50%        3.00000\n",
       "75%        3.50000\n",
       "max        4.00000\n",
       "Name: final grade, dtype: float64"
      ]
     },
     "execution_count": 50,
     "metadata": {},
     "output_type": "execute_result"
    }
   ],
   "source": [
    "receivedGrade.loc[receivedGrade[\"Ethnicity\"] == 'Hispanic Ethnicity'][\"final grade\"].describe()"
   ]
  },
  {
   "cell_type": "markdown",
   "metadata": {},
   "source": [
    "## Mann-Whitney-Wilcoxon (MWW) RankSum tests"
   ]
  },
  {
   "cell_type": "code",
   "execution_count": 68,
   "metadata": {},
   "outputs": [
    {
     "name": "stdout",
     "output_type": "stream",
     "text": [
      "Comparing grade distributions of White and Black students p = 0.000000000\n",
      "Comparing grade distributions of White and Asian students p = 0.018006612\n",
      "Comparing grade distributions of White and Hispanic students p = 0.000000000\n",
      "Comparing grade distributions of White and Multiracial students p = 0.167840284\n"
     ]
    }
   ],
   "source": [
    "z_stat, p_val = stats.ranksums(\n",
    "    receivedGrade.loc[receivedGrade[\"Ethnicity\"] == 'White (non-Hispanic)'][\"final grade\"],\n",
    "    receivedGrade.loc[receivedGrade[\"Ethnicity\"] == 'Black or African American  (non-Hispanic)'][\"final grade\"]\n",
    ")\n",
    "receivedGrade.loc[receivedGrade[\"Ethnicity\"] == 'White (non-Hispanic)'][\"final grade\"].mean()\n",
    "receivedGrade.loc[receivedGrade[\"Ethnicity\"] == 'Black or African American  (non-Hispanic)'][\"final grade\"].mean()\n",
    "\n",
    "print(\"Comparing grade distributions of White and Black students p =\", format(p_val, '.9f'))\n",
    "\n",
    "\n",
    "z_stat, p_val = stats.ranksums(\n",
    "    receivedGrade.loc[receivedGrade[\"Ethnicity\"] == 'White (non-Hispanic)'][\"final grade\"],\n",
    "    receivedGrade.loc[receivedGrade[\"Ethnicity\"] == 'Asian (non-Hispanic)'][\"final grade\"]\n",
    ")\n",
    "print(\"Comparing grade distributions of White and Asian students p =\", format(p_val, '.9f'))\n",
    "\n",
    "\n",
    "z_stat, p_val = stats.ranksums(\n",
    "    receivedGrade.loc[receivedGrade[\"Ethnicity\"] == 'White (non-Hispanic)'][\"final grade\"],\n",
    "    receivedGrade.loc[receivedGrade[\"Ethnicity\"] == 'Hispanic Ethnicity'][\"final grade\"]\n",
    ")\n",
    "print(\"Comparing grade distributions of White and Hispanic students p =\", format(p_val, '.9f'))\n",
    "\n",
    "\n",
    "z_stat, p_val = stats.ranksums(\n",
    "    receivedGrade.loc[receivedGrade[\"Ethnicity\"] == 'White (non-Hispanic)'][\"final grade\"],\n",
    "    receivedGrade.loc[receivedGrade[\"Ethnicity\"] == 'Two or more races (non-Hispanic)'][\"final grade\"]\n",
    ")\n",
    "print(\"Comparing grade distributions of White and Multiracial students p =\",format(p_val,'.9f'))"
   ]
  },
  {
   "cell_type": "code",
   "execution_count": null,
   "metadata": {},
   "outputs": [],
   "source": []
  }
 ],
 "metadata": {
  "kernelspec": {
   "display_name": "Python 3",
   "language": "python",
   "name": "python3"
  },
  "language_info": {
   "codemirror_mode": {
    "name": "ipython",
    "version": 3
   },
   "file_extension": ".py",
   "mimetype": "text/x-python",
   "name": "python",
   "nbconvert_exporter": "python",
   "pygments_lexer": "ipython3",
   "version": "3.6.5"
  }
 },
 "nbformat": 4,
 "nbformat_minor": 2
}
